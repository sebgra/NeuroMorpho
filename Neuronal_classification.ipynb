{
 "cells": [
  {
   "cell_type": "markdown",
   "metadata": {},
   "source": [
    "# Imorting Libraries"
   ]
  },
  {
   "cell_type": "code",
   "execution_count": 53,
   "metadata": {},
   "outputs": [
    {
     "name": "stdout",
     "output_type": "stream",
     "text": [
      "2.5.0\n"
     ]
    }
   ],
   "source": [
    "import glob\n",
    "import os.path\n",
    "import pickle\n",
    "\n",
    "\n",
    "\n",
    "import numpy as np\n",
    "import pandas as pd\n",
    "import matplotlib.pyplot as plt\n",
    "import plotly_express as px\n",
    "from plotly.subplots import make_subplots\n",
    "import plotly.graph_objects as go\n",
    "import seaborn as sns\n",
    "import sklearn \n",
    "import tensorflow as tf\n",
    "\n",
    "from sklearn.model_selection import train_test_split, cross_val_score, GridSearchCV\n",
    "from sklearn.metrics import accuracy_score, precision_score, recall_score, roc_auc_score, f1_score, confusion_matrix, precision_recall_curve, roc_curve\n",
    "from sklearn.preprocessing import StandardScaler\n",
    "from sklearn.linear_model import LogisticRegression\n",
    "from sklearn.ensemble import RandomForestClassifier\n",
    "from sklearn.metrics import confusion_matrix\n",
    "from sklearn.metrics import classification_report,accuracy_score\n",
    "from sklearn.neural_network import MLPClassifier\n",
    "from sklearn.neighbors import KNeighborsClassifier\n",
    "from sklearn.svm import SVC\n",
    "from sklearn.gaussian_process import GaussianProcessClassifier\n",
    "from sklearn.gaussian_process.kernels import RBF\n",
    "from sklearn.tree import DecisionTreeClassifier\n",
    "from sklearn.ensemble import RandomForestClassifier, AdaBoostClassifier\n",
    "from sklearn.naive_bayes import GaussianNB\n",
    "from sklearn.discriminant_analysis import QuadraticDiscriminantAnalysis\n",
    "from sklearn.ensemble import BaggingClassifier, GradientBoostingClassifier\n",
    "from sklearn.model_selection import cross_validate, StratifiedKFold\n",
    "from sklearn.decomposition import PCA\n",
    "from sklearn import metrics\n",
    "from sklearn.utils import compute_class_weight\n",
    "\n",
    "\n",
    "from xgboost import XGBClassifier\n",
    "from lightgbm import LGBMClassifier\n",
    "\n",
    "from tensorflow.keras.models import Sequential\n",
    "from tensorflow.keras.layers import Dense\n",
    "from tensorflow.keras.models import Sequential\n",
    "from tensorflow.keras.layers import Dense, Activation, Dropout\n",
    "from tensorflow.keras.callbacks import EarlyStopping\n",
    "\n",
    "from tensorflow.keras.models import Sequential\n",
    "from tensorflow.keras.layers import Dense\n",
    "\n",
    "from tensorflow.keras.layers import Dense, Dropout , BatchNormalization\n",
    "# from tensorflow.keras.utils import np_utils\n",
    "from tensorflow.keras.optimizers import RMSprop, Adam\n",
    "from tensorflow.keras.callbacks import EarlyStopping, ModelCheckpoint\n",
    "\n",
    "\n",
    "print(tf.__version__)\n",
    "\n",
    "\n",
    "import autosklearn.classification\n",
    "import sklearn.model_selection\n",
    "from supervised.automl import AutoML\n",
    "\n",
    "\n",
    "from pylmeasure import *"
   ]
  },
  {
   "cell_type": "code",
   "execution_count": 2,
   "metadata": {},
   "outputs": [],
   "source": [
    "#get_measurments('/home/sebastien/Bureau/NeuroMorpho/purkinje_ok/AZ_Adult1_10CELLS-1.CNG.swc')"
   ]
  },
  {
   "cell_type": "code",
   "execution_count": 3,
   "metadata": {},
   "outputs": [],
   "source": [
    "def get_measurments(neuron):\n",
    "\n",
    "    '''\n",
    "    Extract features from neuron .swc file\n",
    "\n",
    "    '''\n",
    "    \n",
    "    features = dict()\n",
    "\n",
    "    features['Surface_TotalSum'] = getOneMeasure('Surface',neuron)['TotalSum']\n",
    "    features['Surface_Compartments'] = getOneMeasure('Surface',neuron)['CompartmentsConsidered']\n",
    "    features['Surface_Minimum'] = getOneMeasure('Surface',neuron)['Minimum']\n",
    "    features['Surface_Average'] = getOneMeasure('Surface',neuron)['Average']\n",
    "    features['Surface_Maximum'] = getOneMeasure('Surface',neuron)['Maximum']\n",
    "    features['Surface_Std'] = getOneMeasure('Surface',neuron)['StdDev']\n",
    "\n",
    "\n",
    "    features['Soma_Surface_TotalSum'] = getOneMeasure('Soma_Surface',neuron)['TotalSum']\n",
    "    features['Soma_Surface_Compartments'] = getOneMeasure('Soma_Surface',neuron)['CompartmentsConsidered']\n",
    "    features['Soma_Surface_Minimum'] = getOneMeasure('Soma_Surface',neuron)['Minimum']\n",
    "    features['Soma_Surface_Average'] = getOneMeasure('Soma_Surface',neuron)['Average']\n",
    "    features['Soma_Surface_Maximum'] = getOneMeasure('Soma_Surface',neuron)['Maximum']\n",
    "    features['Soma_Surface_Std'] = getOneMeasure('Soma_Surface',neuron)['StdDev']\n",
    "\n",
    "\n",
    "    features['N_stems_TotalSum'] = getOneMeasure('N_stems',neuron)['TotalSum']\n",
    "    features['N_stems_Compartments'] = getOneMeasure('N_stems',neuron)['CompartmentsConsidered']\n",
    "    features['N_stems_Minimum'] = getOneMeasure('N_stems',neuron)['Minimum']\n",
    "    features['N_stems_Average'] = getOneMeasure('N_stems',neuron)['Average']\n",
    "    features['N_stems_Maximum'] = getOneMeasure('N_stems',neuron)['Maximum']\n",
    "    features['N_stems_Std'] = getOneMeasure('N_stems',neuron)['StdDev']\n",
    "\n",
    "    features['N_bifs_TotalSum'] = getOneMeasure('N_bifs',neuron)['TotalSum']\n",
    "    features['N_bifs_Compartments'] = getOneMeasure('N_bifs',neuron)['CompartmentsConsidered']\n",
    "    features['N_bifs_Minimum'] = getOneMeasure('N_bifs',neuron)['Minimum']\n",
    "    features['N_bifs_Average'] = getOneMeasure('N_bifs',neuron)['Average']\n",
    "    features['N_bifs_Maximum'] = getOneMeasure('N_bifs',neuron)['Maximum']\n",
    "    features['N_bifs_Std'] = getOneMeasure('N_bifs',neuron)['StdDev']\n",
    "\n",
    "    features['N_branch_TotalSum'] = getOneMeasure('N_branch',neuron)['TotalSum']\n",
    "    features['N_branch_Compartments'] = getOneMeasure('N_branch',neuron)['CompartmentsConsidered']\n",
    "    features['N_branch_Minimum'] = getOneMeasure('N_branch',neuron)['Minimum']\n",
    "    features['N_branch_Average'] = getOneMeasure('N_branch',neuron)['Average']\n",
    "    features['N_branch_Maximum'] = getOneMeasure('N_branch',neuron)['Maximum']\n",
    "    features['N_branch_Std'] = getOneMeasure('N_branch',neuron)['StdDev']\n",
    "\n",
    "    features['N_tips_TotalSum'] = getOneMeasure('N_tips',neuron)['TotalSum']\n",
    "    features['N_tips_Compartments'] = getOneMeasure('N_tips',neuron)['CompartmentsConsidered']\n",
    "    features['N_tips_Minimum'] = getOneMeasure('N_tips',neuron)['Minimum']\n",
    "    features['N_tips_Average'] = getOneMeasure('N_tips',neuron)['Average']\n",
    "    features['N_tips_Maximum'] = getOneMeasure('N_tips',neuron)['Maximum']\n",
    "    features['N_tips_Std'] = getOneMeasure('N_tips',neuron)['StdDev']\n",
    "\n",
    "    features['Width_TotalSum'] = getOneMeasure('Width',neuron)['TotalSum']\n",
    "    features['Width_Compartments'] = getOneMeasure('Width',neuron)['CompartmentsConsidered']\n",
    "    features['Width_Minimum'] = getOneMeasure('Width',neuron)['Minimum']\n",
    "    features['Width_Average'] = getOneMeasure('Width',neuron)['Average']\n",
    "    features['Width_Maximum'] = getOneMeasure('Width',neuron)['Maximum']\n",
    "    features['Width_Std'] = getOneMeasure('Width',neuron)['StdDev']\n",
    "\n",
    "    features['Height_TotalSum'] = getOneMeasure('Height',neuron)['TotalSum']\n",
    "    features['Height_Compartments'] = getOneMeasure('Height',neuron)['CompartmentsConsidered']\n",
    "    features['Height_Minimum'] = getOneMeasure('Height',neuron)['Minimum']\n",
    "    features['Height_Average'] = getOneMeasure('Height',neuron)['Average']\n",
    "    features['Height_Maximum'] = getOneMeasure('Height',neuron)['Maximum']\n",
    "    features['Height_Std'] = getOneMeasure('Height',neuron)['StdDev']\n",
    "\n",
    "    features['Depth_TotalSum'] = getOneMeasure('Depth',neuron)['TotalSum']\n",
    "    features['Depth_Compartments'] = getOneMeasure('Depth',neuron)['CompartmentsConsidered']\n",
    "    features['Depth_Minimum'] = getOneMeasure('Depth',neuron)['Minimum']\n",
    "    features['Depth_Average'] = getOneMeasure('Depth',neuron)['Average']\n",
    "    features['Depth_Maximum'] = getOneMeasure('Depth',neuron)['Maximum']\n",
    "    features['Depth_Std'] = getOneMeasure('Depth',neuron)['StdDev']\n",
    "\n",
    "    features['Type_TotalSum'] = getOneMeasure('Type',neuron)['TotalSum']\n",
    "    features['Type_Compartments'] = getOneMeasure('Type',neuron)['CompartmentsConsidered']\n",
    "    features['Type_Minimum'] = getOneMeasure('Type',neuron)['Minimum']\n",
    "    features['Type_Average'] = getOneMeasure('Type',neuron)['Average']\n",
    "    features['Type_Maximum'] = getOneMeasure('Type',neuron)['Maximum']\n",
    "    features['Type_Std'] = getOneMeasure('Type',neuron)['StdDev']\n",
    "\n",
    "    features['Diameter_TotalSum'] = getOneMeasure('Diameter',neuron)['TotalSum']\n",
    "    features['Diameter_Compartments'] = getOneMeasure('Diameter',neuron)['CompartmentsConsidered']\n",
    "    features['Diameter_Minimum'] = getOneMeasure('Diameter',neuron)['Minimum']\n",
    "    features['Diameter_Average'] = getOneMeasure('Diameter',neuron)['Average']\n",
    "    features['Diameter_Maximum'] = getOneMeasure('Diameter',neuron)['Maximum']\n",
    "    features['Diameter_Std'] = getOneMeasure('Diameter',neuron)['StdDev']\n",
    "\n",
    "    features['Diameter_pow_TotalSum'] = getOneMeasure('Diameter_pow',neuron)['TotalSum']\n",
    "    features['Diameter_pow_Compartments'] = getOneMeasure('Diameter_pow',neuron)['CompartmentsConsidered']\n",
    "    features['Diameter_pow_Minimum'] = getOneMeasure('Diameter_pow',neuron)['Minimum']\n",
    "    features['Diameter_pow_Average'] = getOneMeasure('Diameter_pow',neuron)['Average']\n",
    "    features['Diameter_pow_Maximum'] = getOneMeasure('Diameter_pow',neuron)['Maximum']\n",
    "    features['Diameter_pow_Std'] = getOneMeasure('Diameter_pow',neuron)['StdDev']\n",
    "\n",
    "    features['Length_TotalSum'] = getOneMeasure('Length',neuron)['TotalSum']\n",
    "    features['Length_Compartments'] = getOneMeasure('Length',neuron)['CompartmentsConsidered']\n",
    "    features['Length_Minimum'] = getOneMeasure('Length',neuron)['Minimum']\n",
    "    features['Length_Average'] = getOneMeasure('Length',neuron)['Average']\n",
    "    features['Length_Maximum'] = getOneMeasure('Length',neuron)['Maximum']\n",
    "    features['Length_Std'] = getOneMeasure('Length',neuron)['StdDev']\n",
    "    \n",
    "    features['Section_Area_TotalSum'] = getOneMeasure('SectionArea',neuron)['TotalSum']\n",
    "    features['Section_Area_Compartments'] = getOneMeasure('SectionArea',neuron)['CompartmentsConsidered']\n",
    "    features['Section_Area_Minimum'] = getOneMeasure('SectionArea',neuron)['Minimum']\n",
    "    features['Section_Area_Average'] = getOneMeasure('SectionArea',neuron)['Average']\n",
    "    features['Section_Area_Maximum'] = getOneMeasure('SectionArea',neuron)['Maximum']\n",
    "    features['Section_Area_Std'] = getOneMeasure('SectionArea',neuron)['StdDev']\n",
    "\n",
    "\n",
    "    features['Volume_TotalSum'] = getOneMeasure('Volume',neuron)['TotalSum']\n",
    "    features['Volume_Compartments'] = getOneMeasure('Volume',neuron)['CompartmentsConsidered']\n",
    "    features['Volume_Minimum'] = getOneMeasure('Volume',neuron)['Minimum']\n",
    "    features['Volume_Average'] = getOneMeasure('Volume',neuron)['Average']\n",
    "    features['Volume_Maximum'] = getOneMeasure('Volume',neuron)['Maximum']\n",
    "    features['Volume_Std'] = getOneMeasure('Volume',neuron)['StdDev']\n",
    "\n",
    "    features['EucDistance_TotalSum'] = getOneMeasure('EucDistance',neuron)['TotalSum']\n",
    "    features['EucDistance_Compartments'] = getOneMeasure('EucDistance',neuron)['CompartmentsConsidered']\n",
    "    features['EucDistance_Minimum'] = getOneMeasure('EucDistance',neuron)['Minimum']\n",
    "    features['EucDistance_Average'] = getOneMeasure('EucDistance',neuron)['Average']\n",
    "    features['EucDistance_Maximum'] = getOneMeasure('EucDistance',neuron)['Maximum']\n",
    "    features['EucDistance_Std'] = getOneMeasure('EucDistance',neuron)['StdDev']\n",
    "\n",
    "    features['PathDistance_TotalSum'] = getOneMeasure('PathDistance',neuron)['TotalSum']\n",
    "    features['PathDistance_Compartments'] = getOneMeasure('PathDistance',neuron)['CompartmentsConsidered']\n",
    "    features['PathDistance_Minimum'] = getOneMeasure('PathDistance',neuron)['Minimum']\n",
    "    features['PathDistance_Average'] = getOneMeasure('PathDistance',neuron)['Average']\n",
    "    features['PathDistance_Maximum'] = getOneMeasure('PathDistance',neuron)['Maximum']\n",
    "    features['PathDistance_Std'] = getOneMeasure('PathDistance',neuron)['StdDev']\n",
    "\n",
    "    features['Branch_Order_TotalSum'] = getOneMeasure('Branch_Order',neuron)['TotalSum']\n",
    "    features['Branch_Order_Compartments'] = getOneMeasure('Branch_Order',neuron)['CompartmentsConsidered']\n",
    "    features['Branch_Order_Minimum'] = getOneMeasure('Branch_Order',neuron)['Minimum']\n",
    "    features['Branch_Order_Average'] = getOneMeasure('Branch_Order',neuron)['Average']\n",
    "    features['Branch_Order_Maximum'] = getOneMeasure('Branch_Order',neuron)['Maximum']\n",
    "    features['Branch_Order_Std'] = getOneMeasure('Branch_Order',neuron)['StdDev']\n",
    "\n",
    "    features['Terminal_degree_TotalSum'] = getOneMeasure('Terminal_degree',neuron)['TotalSum']\n",
    "    features['Terminal_degree_Compartments'] = getOneMeasure('Terminal_degree',neuron)['CompartmentsConsidered']\n",
    "    features['Terminal_degree_Minimum'] = getOneMeasure('Terminal_degree',neuron)['Minimum']\n",
    "    features['Terminal_degree_Average'] = getOneMeasure('Terminal_degree',neuron)['Average']\n",
    "    features['Terminal_degree_Maximum'] = getOneMeasure('Terminal_degree',neuron)['Maximum']\n",
    "    features['Terminal_degree_Std'] = getOneMeasure('Terminal_degree',neuron)['StdDev']\n",
    "\n",
    "    features['TerminalSegment_TotalSum'] = getOneMeasure('TerminalSegment',neuron)['TotalSum']\n",
    "    features['TerminalSegment_Compartments'] = getOneMeasure('TerminalSegment',neuron)['CompartmentsConsidered']\n",
    "    features['TerminalSegment_Minimum'] = getOneMeasure('TerminalSegment',neuron)['Minimum']\n",
    "    features['TerminalSegment_Average'] = getOneMeasure('TerminalSegment',neuron)['Average']\n",
    "    features['TerminalSegment_Maximum'] = getOneMeasure('TerminalSegment',neuron)['Maximum']\n",
    "    features['TerminalSegment_Std'] = getOneMeasure('TerminalSegment',neuron)['StdDev']\n",
    "\n",
    "    features['Taper_1_TotalSum'] = getOneMeasure('Taper_1',neuron)['TotalSum']\n",
    "    features['Taper_1_Compartments'] = getOneMeasure('Taper_1',neuron)['CompartmentsConsidered']\n",
    "    features['Taper_1_Minimum'] = getOneMeasure('Taper_1',neuron)['Minimum']\n",
    "    features['Taper_1_Average'] = getOneMeasure('Taper_1',neuron)['Average']\n",
    "    features['Taper_1_Maximum'] = getOneMeasure('Taper_1',neuron)['Maximum']\n",
    "    features['Taper_1_Std'] = getOneMeasure('Taper_1',neuron)['StdDev']\n",
    "\n",
    "    features['Taper_2_TotalSum'] = getOneMeasure('Taper_2',neuron)['TotalSum']\n",
    "    features['Taper_2_Compartments'] = getOneMeasure('Taper_2',neuron)['CompartmentsConsidered']\n",
    "    features['Taper_2_Minimum'] = getOneMeasure('Taper_2',neuron)['Minimum']\n",
    "    features['Taper_2_Average'] = getOneMeasure('Taper_2',neuron)['Average']\n",
    "    features['Taper_2_Maximum'] = getOneMeasure('Taper_2',neuron)['Maximum']\n",
    "    features['Taper_2_Std'] = getOneMeasure('Taper_2',neuron)['StdDev']\n",
    "\n",
    "    features['Branch_pathlength_TotalSum'] = getOneMeasure('Branch_pathlength',neuron)['TotalSum']\n",
    "    features['Branch_pathlength_Compartments'] = getOneMeasure('Branch_pathlength',neuron)['CompartmentsConsidered']\n",
    "    features['Branch_pathlength_Minimum'] = getOneMeasure('Branch_pathlength',neuron)['Minimum']\n",
    "    features['Branch_pathlength_Average'] = getOneMeasure('Branch_pathlength',neuron)['Average']\n",
    "    features['Branch_pathlength_Maximum'] = getOneMeasure('Branch_pathlength',neuron)['Maximum']\n",
    "    features['Branch_pathlength_Std'] = getOneMeasure('Branch_pathlength',neuron)['StdDev']\n",
    "\n",
    "    features['Contraction_TotalSum'] = getOneMeasure('Contraction',neuron)['TotalSum']\n",
    "    features['Contraction_Compartments'] = getOneMeasure('Contraction',neuron)['CompartmentsConsidered']\n",
    "    features['Contraction_Minimum'] = getOneMeasure('Contraction',neuron)['Minimum']\n",
    "    features['Contraction_Average'] = getOneMeasure('Contraction',neuron)['Average']\n",
    "    features['Contraction_Maximum'] = getOneMeasure('Contraction',neuron)['Maximum']\n",
    "    features['Contraction_Std'] = getOneMeasure('Contraction',neuron)['StdDev']\n",
    "\n",
    "    features['Fragmentation_TotalSum'] = getOneMeasure('Fragmentation',neuron)['TotalSum']\n",
    "    features['Fragmentation_Compartments'] = getOneMeasure('Fragmentation',neuron)['CompartmentsConsidered']\n",
    "    features['Fragmentation_Minimum'] = getOneMeasure('Fragmentation',neuron)['Minimum']\n",
    "    features['Fragmentation_Average'] = getOneMeasure('Fragmentation',neuron)['Average']\n",
    "    features['Fragmentation_Maximum'] = getOneMeasure('Fragmentation',neuron)['Maximum']\n",
    "    features['Fragmentation_Std'] = getOneMeasure('Fragmentation',neuron)['StdDev']\n",
    "\n",
    "    features['Daughter_Ratio_TotalSum'] = getOneMeasure('Daughter_Ratio',neuron)['TotalSum']\n",
    "    features['Daughter_Ratio_Compartments'] = getOneMeasure('Daughter_Ratio',neuron)['CompartmentsConsidered']\n",
    "    features['Daughter_Ratio_Minimum'] = getOneMeasure('Daughter_Ratio',neuron)['Minimum']\n",
    "    features['Daughter_Ratio_Average'] = getOneMeasure('Daughter_Ratio',neuron)['Average']\n",
    "    features['Daughter_Ratio_Maximum'] = getOneMeasure('Daughter_Ratio',neuron)['Maximum']\n",
    "    features['Daughter_Ratio_Std'] = getOneMeasure('Daughter_Ratio',neuron)['StdDev']\n",
    "\n",
    "    features['Parent_Daughter_Ratio_TotalSum'] = getOneMeasure('Parent_Daughter_Ratio',neuron)['TotalSum']\n",
    "    features['Parent_Daughter_Ratio_Compartments'] = getOneMeasure('Parent_Daughter_Ratio',neuron)['CompartmentsConsidered']\n",
    "    features['Parent_Daughter_Ratio_Minimum'] = getOneMeasure('Parent_Daughter_Ratio',neuron)['Minimum']\n",
    "    features['Parent_Daughter_Ratio_Average'] = getOneMeasure('Parent_Daughter_Ratio',neuron)['Average']\n",
    "    features['Parent_Daughter_Ratio_Maximum'] = getOneMeasure('Parent_Daughter_Ratio',neuron)['Maximum']\n",
    "    features['Parent_Daughter_Ratio_Std'] = getOneMeasure('Parent_Daughter_Ratio',neuron)['StdDev']\n",
    "\n",
    "    features['Partition_assymetry_TotalSum'] = getOneMeasure('Partition_asymmetry',neuron)['TotalSum']\n",
    "    features['Partition_assymetry_Compartments'] = getOneMeasure('Partition_asymmetry',neuron)['CompartmentsConsidered']\n",
    "    features['Partition_assymetry_Minimum'] = getOneMeasure('Partition_asymmetry',neuron)['Minimum']\n",
    "    features['Partition_assymetry_Average'] = getOneMeasure('Partition_asymmetry',neuron)['Average']\n",
    "    features['Partition_assymetry_Maximum'] = getOneMeasure('Partition_asymmetry',neuron)['Maximum']\n",
    "    features['Partition_assymetry_Std'] = getOneMeasure('Partition_asymmetry',neuron)['StdDev']\n",
    "\n",
    "    features['Rall_Power_TotalSum'] = getOneMeasure('Rall_Power',neuron)['TotalSum']\n",
    "    features['Rall_Power_Compartments'] = getOneMeasure('Rall_Power',neuron)['CompartmentsConsidered']\n",
    "    features['Rall_Power_Minimum'] = getOneMeasure('Rall_Power',neuron)['Minimum']\n",
    "    features['Rall_Power_Average'] = getOneMeasure('Rall_Power',neuron)['Average']\n",
    "    features['Rall_Power_Maximum'] = getOneMeasure('Rall_Power',neuron)['Maximum']\n",
    "    features['Rall_Power_Std'] = getOneMeasure('Rall_Power',neuron)['StdDev']\n",
    "\n",
    "\n",
    "    features['Pk_TotalSum'] = getOneMeasure('Pk',neuron)['TotalSum']\n",
    "    features['Pk_Compartments'] = getOneMeasure('Pk',neuron)['CompartmentsConsidered']\n",
    "    features['Pk_Minimum'] = getOneMeasure('Pk',neuron)['Minimum']\n",
    "    features['Pk_Average'] = getOneMeasure('Pk',neuron)['Average']\n",
    "    features['Pk_Maximum'] = getOneMeasure('Pk',neuron)['Maximum']\n",
    "    features['Pk_Std'] = getOneMeasure('Pk',neuron)['StdDev']\n",
    "\n",
    "    features['Pk_classic_TotalSum'] = getOneMeasure('Pk_classic',neuron)['TotalSum']\n",
    "    features['Pk_classic_Compartments'] = getOneMeasure('Pk_classic',neuron)['CompartmentsConsidered']\n",
    "    features['Pk_classic_Minimum'] = getOneMeasure('Pk_classic',neuron)['Minimum']\n",
    "    features['Pk_classic_Average'] = getOneMeasure('Pk_classic',neuron)['Average']\n",
    "    features['Pk_classic_Maximum'] = getOneMeasure('Pk_classic',neuron)['Maximum']\n",
    "    features['Pk_classic_Std'] = getOneMeasure('Pk_classic',neuron)['StdDev']\n",
    "\n",
    "    features['Pk_2_TotalSum'] = getOneMeasure('Pk_2',neuron)['TotalSum']\n",
    "    features['Pk_2_Compartments'] = getOneMeasure('Pk_2',neuron)['CompartmentsConsidered']\n",
    "    features['Pk_2_Minimum'] = getOneMeasure('Pk_2',neuron)['Minimum']\n",
    "    features['Pk_2_Average'] = getOneMeasure('Pk_2',neuron)['Average']\n",
    "    features['Pk_2_Maximum'] = getOneMeasure('Pk_2',neuron)['Maximum']\n",
    "    features['Pk_2_Std'] = getOneMeasure('Pk_2',neuron)['StdDev']\n",
    "\n",
    "\n",
    "    features['Bif_ampl_local_TotalSum'] = getOneMeasure('Bif_ampl_local',neuron)['TotalSum']\n",
    "    features['Bif_ampl_local_Compartments'] = getOneMeasure('Bif_ampl_local',neuron)['CompartmentsConsidered']\n",
    "    features['Bif_ampl_local_Minimum'] = getOneMeasure('Bif_ampl_local',neuron)['Minimum']\n",
    "    features['Bif_ampl_local_Average'] = getOneMeasure('Bif_ampl_local',neuron)['Average']\n",
    "    features['Bif_ampl_local_Maximum'] = getOneMeasure('Bif_ampl_local',neuron)['Maximum']\n",
    "    features['Bif_ampl_local_Std'] = getOneMeasure('Bif_ampl_local',neuron)['StdDev']\n",
    "\n",
    "    features['Bif_ampl_remote_TotalSum'] = getOneMeasure('Bif_ampl_remote',neuron)['TotalSum']\n",
    "    features['Bif_ampl_remote_Compartments'] = getOneMeasure('Bif_ampl_remote',neuron)['CompartmentsConsidered']\n",
    "    features['Bif_ampl_remote_Minimum'] = getOneMeasure('Bif_ampl_remote',neuron)['Minimum']\n",
    "    features['Bif_ampl_remote_Average'] = getOneMeasure('Bif_ampl_remote',neuron)['Average']\n",
    "    features['Bif_ampl_remote_Maximum'] = getOneMeasure('Bif_ampl_remote',neuron)['Maximum']\n",
    "    features['Bif_ampl_remote_Std'] = getOneMeasure('Bif_ampl_remote',neuron)['StdDev']\n",
    "\n",
    "    features['Bif_tilt_local_TotalSum'] = getOneMeasure('Bif_tilt_local',neuron)['TotalSum']\n",
    "    features['Bif_tilt_local_Compartments'] = getOneMeasure('Bif_tilt_local',neuron)['CompartmentsConsidered']\n",
    "    features['Bif_tilt_local_Minimum'] = getOneMeasure('Bif_tilt_local',neuron)['Minimum']\n",
    "    features['Bif_tilt_local_Average'] = getOneMeasure('Bif_tilt_local',neuron)['Average']\n",
    "    features['Bif_tilt_local_Maximum'] = getOneMeasure('Bif_tilt_local',neuron)['Maximum']\n",
    "    features['Bif_tilt_local_Std'] = getOneMeasure('Bif_tilt_local',neuron)['StdDev']\n",
    "\n",
    "\n",
    "    features['Bif_tilt_remote_TotalSum'] = getOneMeasure('Bif_tilt_remote',neuron)['TotalSum']\n",
    "    features['Bif_tilt_remote_Compartments'] = getOneMeasure('Bif_tilt_remote',neuron)['CompartmentsConsidered']\n",
    "    features['Bif_tilt_remote_Minimum'] = getOneMeasure('Bif_tilt_remote',neuron)['Minimum']\n",
    "    features['Bif_tilt_remote_Average'] = getOneMeasure('Bif_tilt_remote',neuron)['Average']\n",
    "    features['Bif_tilt_remote_Maximum'] = getOneMeasure('Bif_tilt_remote',neuron)['Maximum']\n",
    "    features['Bif_tilt_remote_Std'] = getOneMeasure('Bif_tilt_remote',neuron)['StdDev']\n",
    "\n",
    "    features['Bif_torque_local_TotalSum'] = getOneMeasure('Bif_torque_local',neuron)['TotalSum']\n",
    "    features['Bif_torque_local_Compartments'] = getOneMeasure('Bif_torque_local',neuron)['CompartmentsConsidered']\n",
    "    features['Bif_torque_local_Minimum'] = getOneMeasure('Bif_torque_local',neuron)['Minimum']\n",
    "    features['Bif_torque_local_Average'] = getOneMeasure('Bif_torque_local',neuron)['Average']\n",
    "    features['Bif_torque_local_Maximum'] = getOneMeasure('Bif_torque_local',neuron)['Maximum']\n",
    "    features['Bif_torque_local_Std'] = getOneMeasure('Bif_torque_local',neuron)['StdDev']\n",
    "\n",
    "    features['Bif_torque_remote_TotalSum'] = getOneMeasure('Bif_torque_remote',neuron)['TotalSum']\n",
    "    features['Bif_torque_remote_Compartments'] = getOneMeasure('Bif_torque_remote',neuron)['CompartmentsConsidered']\n",
    "    features['Bif_torque_remote_Minimum'] = getOneMeasure('Bif_torque_remote',neuron)['Minimum']\n",
    "    features['Bif_torque_remote_Average'] = getOneMeasure('Bif_torque_remote',neuron)['Average']\n",
    "    features['Bif_torque_remote_Maximum'] = getOneMeasure('Bif_torque_remote',neuron)['Maximum']\n",
    "    features['Bif_torque_remote_Std'] = getOneMeasure('Bif_torque_remote',neuron)['StdDev']\n",
    "\n",
    "\n",
    "    features['Last_parent_diam_TotalSum'] = getOneMeasure('Last_parent_diam',neuron)['TotalSum']\n",
    "    features['Last_parent_diam_Compartments'] = getOneMeasure('Last_parent_diam',neuron)['CompartmentsConsidered']\n",
    "    features['Last_parent_diam_Minimum'] = getOneMeasure('Last_parent_diam',neuron)['Minimum']\n",
    "    features['Last_parent_diam_Average'] = getOneMeasure('Last_parent_diam',neuron)['Average']\n",
    "    features['Last_parent_diam_Maximum'] = getOneMeasure('Last_parent_diam',neuron)['Maximum']\n",
    "    features['Last_parent_diam_Std'] = getOneMeasure('Last_parent_diam',neuron)['StdDev']\n",
    "\n",
    "    features['Diam_threshold_TotalSum'] = getOneMeasure('Diam_threshold',neuron)['TotalSum']\n",
    "    features['Diam_threshold_Compartments'] = getOneMeasure('Diam_threshold',neuron)['CompartmentsConsidered']\n",
    "    features['Diam_threshold_Minimum'] = getOneMeasure('Diam_threshold',neuron)['Minimum']\n",
    "    features['Diam_threshold_Average'] = getOneMeasure('Diam_threshold',neuron)['Average']\n",
    "    features['Diam_threshold_Maximum'] = getOneMeasure('Diam_threshold',neuron)['Maximum']\n",
    "    features['Diam_threshold_Std'] = getOneMeasure('Diam_threshold',neuron)['StdDev']\n",
    "\n",
    "    features['Hillman_Threshold_TotalSum'] = getOneMeasure('HillmanThreshold',neuron)['TotalSum']\n",
    "    features['Hillman_Threshold_Compartments'] = getOneMeasure('HillmanThreshold',neuron)['CompartmentsConsidered']\n",
    "    features['Hillman_Threshold_Minimum'] = getOneMeasure('HillmanThreshold',neuron)['Minimum']\n",
    "    features['Hillman_Threshold_Average'] = getOneMeasure('HillmanThreshold',neuron)['Average']\n",
    "    features['Hillman_Threshold_Maximum'] = getOneMeasure('HillmanThreshold',neuron)['Maximum']\n",
    "    features['Hillman_Threshold_Std'] = getOneMeasure('HillmanThreshold',neuron)['StdDev']\n",
    "\n",
    "    features['Helix_TotalSum'] = getOneMeasure('Helix',neuron)['TotalSum']\n",
    "    features['Helix_Compartments'] = getOneMeasure('Helix',neuron)['CompartmentsConsidered']\n",
    "    features['Helix_Minimum'] = getOneMeasure('Helix',neuron)['Minimum']\n",
    "    features['Helix_Average'] = getOneMeasure('Helix',neuron)['Average']\n",
    "    features['Helix_Maximum'] = getOneMeasure('Helix',neuron)['Maximum']\n",
    "    features['Helix_Std'] = getOneMeasure('Helix',neuron)['StdDev']\n",
    "\n",
    "    features['Fractal_Dim_TotalSum'] = getOneMeasure('Fractal_Dim',neuron)['TotalSum']\n",
    "    features['Fractal_Dim_Compartments'] = getOneMeasure('Fractal_Dim',neuron)['CompartmentsConsidered']\n",
    "    features['Fractal_Dim_Minimum'] = getOneMeasure('Fractal_Dim',neuron)['Minimum']\n",
    "    features['Fractal_Dim_Average'] = getOneMeasure('Fractal_Dim',neuron)['Average']\n",
    "    features['Fractal_Dim_Maximum'] = getOneMeasure('Fractal_Dim',neuron)['Maximum']\n",
    "    features['Fractal_Dim_Std'] = getOneMeasure('Fractal_Dim',neuron)['StdDev']\n",
    "        \n",
    "    return features"
   ]
  },
  {
   "cell_type": "markdown",
   "metadata": {},
   "source": [
    "# Pooling files"
   ]
  },
  {
   "cell_type": "code",
   "execution_count": 4,
   "metadata": {},
   "outputs": [],
   "source": [
    "path_list = ['/home/sebastien/Bureau/NeuroMorpho/basket_ok/','/home/sebastien/Bureau/NeuroMorpho/motoneuron_ok','/home/sebastien/Bureau/NeuroMorpho/purkinje_ok','/home/sebastien/Bureau/NeuroMorpho/pyramidal_ok','/home/sebastien/Bureau/NeuroMorpho/retina_ok']\n",
    "neuron_classes = ['Basket', 'Motoneuron', 'Purkinje', 'Pyramidal', 'Retina']\n",
    "db = dict()\n",
    "\n",
    "for neuron_class, path in zip(neuron_classes, path_list) :\n",
    "\n",
    "    files = glob.glob(str(path + '/*.swc'))\n",
    "    db[neuron_class] = files\n"
   ]
  },
  {
   "cell_type": "code",
   "execution_count": 5,
   "metadata": {},
   "outputs": [],
   "source": [
    "df = {'Basket' : list(),\n",
    "            'Motoneuron' : list(),\n",
    "            'Purkinje' : list(),\n",
    "            'Pyramidal' : list(),\n",
    "            'Retina' : list()}\n",
    "\n",
    "for key in df.keys():\n",
    "    for neuron in db[key] :\n",
    "\n",
    "        df[key].append(get_measurments(neuron))"
   ]
  },
  {
   "cell_type": "code",
   "execution_count": 9,
   "metadata": {},
   "outputs": [
    {
     "data": {
      "text/html": [
       "<div>\n",
       "<style scoped>\n",
       "    .dataframe tbody tr th:only-of-type {\n",
       "        vertical-align: middle;\n",
       "    }\n",
       "\n",
       "    .dataframe tbody tr th {\n",
       "        vertical-align: top;\n",
       "    }\n",
       "\n",
       "    .dataframe thead th {\n",
       "        text-align: right;\n",
       "    }\n",
       "</style>\n",
       "<table border=\"1\" class=\"dataframe\">\n",
       "  <thead>\n",
       "    <tr style=\"text-align: right;\">\n",
       "      <th></th>\n",
       "      <th>Surface_TotalSum</th>\n",
       "      <th>Surface_Compartments</th>\n",
       "      <th>Surface_Minimum</th>\n",
       "      <th>Surface_Average</th>\n",
       "      <th>Surface_Maximum</th>\n",
       "      <th>Surface_Std</th>\n",
       "      <th>Soma_Surface_TotalSum</th>\n",
       "      <th>Soma_Surface_Compartments</th>\n",
       "      <th>Soma_Surface_Minimum</th>\n",
       "      <th>Soma_Surface_Average</th>\n",
       "      <th>...</th>\n",
       "      <th>Helix_Minimum</th>\n",
       "      <th>Helix_Average</th>\n",
       "      <th>Helix_Maximum</th>\n",
       "      <th>Helix_Std</th>\n",
       "      <th>Fractal_Dim_TotalSum</th>\n",
       "      <th>Fractal_Dim_Compartments</th>\n",
       "      <th>Fractal_Dim_Minimum</th>\n",
       "      <th>Fractal_Dim_Average</th>\n",
       "      <th>Fractal_Dim_Maximum</th>\n",
       "      <th>Fractal_Dim_Std</th>\n",
       "    </tr>\n",
       "  </thead>\n",
       "  <tbody>\n",
       "    <tr>\n",
       "      <th>0</th>\n",
       "      <td>10298.50</td>\n",
       "      <td>1609.0</td>\n",
       "      <td>0.124498</td>\n",
       "      <td>6.40053</td>\n",
       "      <td>259.798</td>\n",
       "      <td>9.19052</td>\n",
       "      <td>519.333</td>\n",
       "      <td>2.0</td>\n",
       "      <td>259.6670</td>\n",
       "      <td>259.6670</td>\n",
       "      <td>...</td>\n",
       "      <td>-0.31</td>\n",
       "      <td>0.001659</td>\n",
       "      <td>0.32</td>\n",
       "      <td>0.069221</td>\n",
       "      <td>166.9820</td>\n",
       "      <td>162.0</td>\n",
       "      <td>1.00000</td>\n",
       "      <td>1.03076</td>\n",
       "      <td>1.23250</td>\n",
       "      <td>0.035733</td>\n",
       "    </tr>\n",
       "    <tr>\n",
       "      <th>1</th>\n",
       "      <td>9207.53</td>\n",
       "      <td>387.0</td>\n",
       "      <td>0.975918</td>\n",
       "      <td>23.79210</td>\n",
       "      <td>494.700</td>\n",
       "      <td>32.29140</td>\n",
       "      <td>988.341</td>\n",
       "      <td>2.0</td>\n",
       "      <td>493.8920</td>\n",
       "      <td>494.1710</td>\n",
       "      <td>...</td>\n",
       "      <td>-0.21</td>\n",
       "      <td>0.002129</td>\n",
       "      <td>0.29</td>\n",
       "      <td>0.052707</td>\n",
       "      <td>43.8014</td>\n",
       "      <td>43.0</td>\n",
       "      <td>1.00000</td>\n",
       "      <td>1.01864</td>\n",
       "      <td>1.14654</td>\n",
       "      <td>0.024497</td>\n",
       "    </tr>\n",
       "    <tr>\n",
       "      <th>2</th>\n",
       "      <td>10841.70</td>\n",
       "      <td>311.0</td>\n",
       "      <td>5.725420</td>\n",
       "      <td>34.86090</td>\n",
       "      <td>169.424</td>\n",
       "      <td>21.43680</td>\n",
       "      <td>186.617</td>\n",
       "      <td>2.0</td>\n",
       "      <td>86.9882</td>\n",
       "      <td>93.3084</td>\n",
       "      <td>...</td>\n",
       "      <td>-0.30</td>\n",
       "      <td>-0.002500</td>\n",
       "      <td>0.27</td>\n",
       "      <td>0.050838</td>\n",
       "      <td>21.4862</td>\n",
       "      <td>21.0</td>\n",
       "      <td>1.00377</td>\n",
       "      <td>1.02315</td>\n",
       "      <td>1.09405</td>\n",
       "      <td>0.019678</td>\n",
       "    </tr>\n",
       "    <tr>\n",
       "      <th>3</th>\n",
       "      <td>15305.00</td>\n",
       "      <td>1662.0</td>\n",
       "      <td>0.237705</td>\n",
       "      <td>9.20877</td>\n",
       "      <td>567.042</td>\n",
       "      <td>18.37820</td>\n",
       "      <td>1133.510</td>\n",
       "      <td>2.0</td>\n",
       "      <td>566.7550</td>\n",
       "      <td>566.7550</td>\n",
       "      <td>...</td>\n",
       "      <td>-0.32</td>\n",
       "      <td>0.002086</td>\n",
       "      <td>0.33</td>\n",
       "      <td>0.074514</td>\n",
       "      <td>184.4360</td>\n",
       "      <td>178.0</td>\n",
       "      <td>1.00000</td>\n",
       "      <td>1.03615</td>\n",
       "      <td>1.33333</td>\n",
       "      <td>0.050886</td>\n",
       "    </tr>\n",
       "    <tr>\n",
       "      <th>4</th>\n",
       "      <td>16929.70</td>\n",
       "      <td>661.0</td>\n",
       "      <td>2.230010</td>\n",
       "      <td>25.61230</td>\n",
       "      <td>198.451</td>\n",
       "      <td>23.78620</td>\n",
       "      <td>262.177</td>\n",
       "      <td>2.0</td>\n",
       "      <td>131.0890</td>\n",
       "      <td>131.0890</td>\n",
       "      <td>...</td>\n",
       "      <td>-0.28</td>\n",
       "      <td>-0.001304</td>\n",
       "      <td>0.26</td>\n",
       "      <td>0.046988</td>\n",
       "      <td>52.9030</td>\n",
       "      <td>52.0</td>\n",
       "      <td>1.00108</td>\n",
       "      <td>1.01737</td>\n",
       "      <td>1.11039</td>\n",
       "      <td>0.019011</td>\n",
       "    </tr>\n",
       "    <tr>\n",
       "      <th>...</th>\n",
       "      <td>...</td>\n",
       "      <td>...</td>\n",
       "      <td>...</td>\n",
       "      <td>...</td>\n",
       "      <td>...</td>\n",
       "      <td>...</td>\n",
       "      <td>...</td>\n",
       "      <td>...</td>\n",
       "      <td>...</td>\n",
       "      <td>...</td>\n",
       "      <td>...</td>\n",
       "      <td>...</td>\n",
       "      <td>...</td>\n",
       "      <td>...</td>\n",
       "      <td>...</td>\n",
       "      <td>...</td>\n",
       "      <td>...</td>\n",
       "      <td>...</td>\n",
       "      <td>...</td>\n",
       "      <td>...</td>\n",
       "      <td>...</td>\n",
       "    </tr>\n",
       "    <tr>\n",
       "      <th>184</th>\n",
       "      <td>13659.80</td>\n",
       "      <td>3002.0</td>\n",
       "      <td>0.370785</td>\n",
       "      <td>4.55022</td>\n",
       "      <td>1032.660</td>\n",
       "      <td>23.88400</td>\n",
       "      <td>2063.530</td>\n",
       "      <td>2.0</td>\n",
       "      <td>1031.3900</td>\n",
       "      <td>1031.7600</td>\n",
       "      <td>...</td>\n",
       "      <td>-0.28</td>\n",
       "      <td>0.001181</td>\n",
       "      <td>0.32</td>\n",
       "      <td>0.044783</td>\n",
       "      <td>84.5262</td>\n",
       "      <td>81.0</td>\n",
       "      <td>1.00000</td>\n",
       "      <td>1.04353</td>\n",
       "      <td>1.44824</td>\n",
       "      <td>0.061174</td>\n",
       "    </tr>\n",
       "    <tr>\n",
       "      <th>185</th>\n",
       "      <td>7942.22</td>\n",
       "      <td>1516.0</td>\n",
       "      <td>0.315622</td>\n",
       "      <td>5.23893</td>\n",
       "      <td>812.160</td>\n",
       "      <td>26.58790</td>\n",
       "      <td>1622.810</td>\n",
       "      <td>2.0</td>\n",
       "      <td>811.0600</td>\n",
       "      <td>811.4050</td>\n",
       "      <td>...</td>\n",
       "      <td>-0.27</td>\n",
       "      <td>-0.000027</td>\n",
       "      <td>0.31</td>\n",
       "      <td>0.041480</td>\n",
       "      <td>77.4010</td>\n",
       "      <td>75.0</td>\n",
       "      <td>1.00000</td>\n",
       "      <td>1.03201</td>\n",
       "      <td>1.33631</td>\n",
       "      <td>0.046370</td>\n",
       "    </tr>\n",
       "    <tr>\n",
       "      <th>186</th>\n",
       "      <td>12465.00</td>\n",
       "      <td>2474.0</td>\n",
       "      <td>0.141010</td>\n",
       "      <td>5.03842</td>\n",
       "      <td>949.616</td>\n",
       "      <td>24.37930</td>\n",
       "      <td>1897.390</td>\n",
       "      <td>2.0</td>\n",
       "      <td>948.2600</td>\n",
       "      <td>948.6970</td>\n",
       "      <td>...</td>\n",
       "      <td>-0.31</td>\n",
       "      <td>-0.001435</td>\n",
       "      <td>0.31</td>\n",
       "      <td>0.054684</td>\n",
       "      <td>113.1380</td>\n",
       "      <td>108.0</td>\n",
       "      <td>1.00000</td>\n",
       "      <td>1.04758</td>\n",
       "      <td>1.35189</td>\n",
       "      <td>0.061710</td>\n",
       "    </tr>\n",
       "    <tr>\n",
       "      <th>187</th>\n",
       "      <td>11046.50</td>\n",
       "      <td>1971.0</td>\n",
       "      <td>0.175808</td>\n",
       "      <td>5.60449</td>\n",
       "      <td>1082.550</td>\n",
       "      <td>31.33670</td>\n",
       "      <td>2164.010</td>\n",
       "      <td>2.0</td>\n",
       "      <td>1082.0000</td>\n",
       "      <td>1082.0000</td>\n",
       "      <td>...</td>\n",
       "      <td>-0.31</td>\n",
       "      <td>-0.002039</td>\n",
       "      <td>0.31</td>\n",
       "      <td>0.042203</td>\n",
       "      <td>120.3340</td>\n",
       "      <td>117.0</td>\n",
       "      <td>1.00000</td>\n",
       "      <td>1.02849</td>\n",
       "      <td>1.16069</td>\n",
       "      <td>0.032937</td>\n",
       "    </tr>\n",
       "    <tr>\n",
       "      <th>188</th>\n",
       "      <td>7335.47</td>\n",
       "      <td>1457.0</td>\n",
       "      <td>0.417661</td>\n",
       "      <td>5.03464</td>\n",
       "      <td>604.110</td>\n",
       "      <td>20.44420</td>\n",
       "      <td>1207.610</td>\n",
       "      <td>2.0</td>\n",
       "      <td>603.8030</td>\n",
       "      <td>603.8030</td>\n",
       "      <td>...</td>\n",
       "      <td>-0.27</td>\n",
       "      <td>-0.001578</td>\n",
       "      <td>0.28</td>\n",
       "      <td>0.057092</td>\n",
       "      <td>87.0453</td>\n",
       "      <td>84.0</td>\n",
       "      <td>1.00000</td>\n",
       "      <td>1.03625</td>\n",
       "      <td>1.30386</td>\n",
       "      <td>0.056411</td>\n",
       "    </tr>\n",
       "  </tbody>\n",
       "</table>\n",
       "<p>457 rows × 258 columns</p>\n",
       "</div>"
      ],
      "text/plain": [
       "     Surface_TotalSum  Surface_Compartments  Surface_Minimum  Surface_Average  \\\n",
       "0            10298.50                1609.0         0.124498          6.40053   \n",
       "1             9207.53                 387.0         0.975918         23.79210   \n",
       "2            10841.70                 311.0         5.725420         34.86090   \n",
       "3            15305.00                1662.0         0.237705          9.20877   \n",
       "4            16929.70                 661.0         2.230010         25.61230   \n",
       "..                ...                   ...              ...              ...   \n",
       "184          13659.80                3002.0         0.370785          4.55022   \n",
       "185           7942.22                1516.0         0.315622          5.23893   \n",
       "186          12465.00                2474.0         0.141010          5.03842   \n",
       "187          11046.50                1971.0         0.175808          5.60449   \n",
       "188           7335.47                1457.0         0.417661          5.03464   \n",
       "\n",
       "     Surface_Maximum  Surface_Std  Soma_Surface_TotalSum  \\\n",
       "0            259.798      9.19052                519.333   \n",
       "1            494.700     32.29140                988.341   \n",
       "2            169.424     21.43680                186.617   \n",
       "3            567.042     18.37820               1133.510   \n",
       "4            198.451     23.78620                262.177   \n",
       "..               ...          ...                    ...   \n",
       "184         1032.660     23.88400               2063.530   \n",
       "185          812.160     26.58790               1622.810   \n",
       "186          949.616     24.37930               1897.390   \n",
       "187         1082.550     31.33670               2164.010   \n",
       "188          604.110     20.44420               1207.610   \n",
       "\n",
       "     Soma_Surface_Compartments  Soma_Surface_Minimum  Soma_Surface_Average  \\\n",
       "0                          2.0              259.6670              259.6670   \n",
       "1                          2.0              493.8920              494.1710   \n",
       "2                          2.0               86.9882               93.3084   \n",
       "3                          2.0              566.7550              566.7550   \n",
       "4                          2.0              131.0890              131.0890   \n",
       "..                         ...                   ...                   ...   \n",
       "184                        2.0             1031.3900             1031.7600   \n",
       "185                        2.0              811.0600              811.4050   \n",
       "186                        2.0              948.2600              948.6970   \n",
       "187                        2.0             1082.0000             1082.0000   \n",
       "188                        2.0              603.8030              603.8030   \n",
       "\n",
       "     ...  Helix_Minimum  Helix_Average  Helix_Maximum  Helix_Std  \\\n",
       "0    ...          -0.31       0.001659           0.32   0.069221   \n",
       "1    ...          -0.21       0.002129           0.29   0.052707   \n",
       "2    ...          -0.30      -0.002500           0.27   0.050838   \n",
       "3    ...          -0.32       0.002086           0.33   0.074514   \n",
       "4    ...          -0.28      -0.001304           0.26   0.046988   \n",
       "..   ...            ...            ...            ...        ...   \n",
       "184  ...          -0.28       0.001181           0.32   0.044783   \n",
       "185  ...          -0.27      -0.000027           0.31   0.041480   \n",
       "186  ...          -0.31      -0.001435           0.31   0.054684   \n",
       "187  ...          -0.31      -0.002039           0.31   0.042203   \n",
       "188  ...          -0.27      -0.001578           0.28   0.057092   \n",
       "\n",
       "     Fractal_Dim_TotalSum  Fractal_Dim_Compartments  Fractal_Dim_Minimum  \\\n",
       "0                166.9820                     162.0              1.00000   \n",
       "1                 43.8014                      43.0              1.00000   \n",
       "2                 21.4862                      21.0              1.00377   \n",
       "3                184.4360                     178.0              1.00000   \n",
       "4                 52.9030                      52.0              1.00108   \n",
       "..                    ...                       ...                  ...   \n",
       "184               84.5262                      81.0              1.00000   \n",
       "185               77.4010                      75.0              1.00000   \n",
       "186              113.1380                     108.0              1.00000   \n",
       "187              120.3340                     117.0              1.00000   \n",
       "188               87.0453                      84.0              1.00000   \n",
       "\n",
       "     Fractal_Dim_Average  Fractal_Dim_Maximum  Fractal_Dim_Std  \n",
       "0                1.03076              1.23250         0.035733  \n",
       "1                1.01864              1.14654         0.024497  \n",
       "2                1.02315              1.09405         0.019678  \n",
       "3                1.03615              1.33333         0.050886  \n",
       "4                1.01737              1.11039         0.019011  \n",
       "..                   ...                  ...              ...  \n",
       "184              1.04353              1.44824         0.061174  \n",
       "185              1.03201              1.33631         0.046370  \n",
       "186              1.04758              1.35189         0.061710  \n",
       "187              1.02849              1.16069         0.032937  \n",
       "188              1.03625              1.30386         0.056411  \n",
       "\n",
       "[457 rows x 258 columns]"
      ]
     },
     "execution_count": 9,
     "metadata": {},
     "output_type": "execute_result"
    }
   ],
   "source": [
    "colnames = df['Basket'][0].keys()\n",
    "data = pd.DataFrame(columns = colnames)\n",
    "df['Basket']\n",
    "\n",
    "test = pd.DataFrame(list(df['Basket'][0].items()), index = colnames)\n",
    "\n",
    "for key in df.keys():\n",
    "    data = data.append(pd.DataFrame(df[key]))\n",
    "data"
   ]
  },
  {
   "cell_type": "code",
   "execution_count": 10,
   "metadata": {},
   "outputs": [
    {
     "name": "stdout",
     "output_type": "stream",
     "text": [
      "50\n",
      "75\n",
      "120\n",
      "23\n",
      "189\n",
      "[0, 0, 0, 0, 0, 0, 0, 0, 0, 0, 0, 0, 0, 0, 0, 0, 0, 0, 0, 0, 0, 0, 0, 0, 0, 0, 0, 0, 0, 0, 0, 0, 0, 0, 0, 0, 0, 0, 0, 0, 0, 0, 0, 0, 0, 0, 0, 0, 0, 0, 1, 1, 1, 1, 1, 1, 1, 1, 1, 1, 1, 1, 1, 1, 1, 1, 1, 1, 1, 1, 1, 1, 1, 1, 1, 1, 1, 1, 1, 1, 1, 1, 1, 1, 1, 1, 1, 1, 1, 1, 1, 1, 1, 1, 1, 1, 1, 1, 1, 1, 1, 1, 1, 1, 1, 1, 1, 1, 1, 1, 1, 1, 1, 1, 1, 1, 1, 1, 1, 1, 1, 1, 1, 1, 1, 2, 2, 2, 2, 2, 2, 2, 2, 2, 2, 2, 2, 2, 2, 2, 2, 2, 2, 2, 2, 2, 2, 2, 2, 2, 2, 2, 2, 2, 2, 2, 2, 2, 2, 2, 2, 2, 2, 2, 2, 2, 2, 2, 2, 2, 2, 2, 2, 2, 2, 2, 2, 2, 2, 2, 2, 2, 2, 2, 2, 2, 2, 2, 2, 2, 2, 2, 2, 2, 2, 2, 2, 2, 2, 2, 2, 2, 2, 2, 2, 2, 2, 2, 2, 2, 2, 2, 2, 2, 2, 2, 2, 2, 2, 2, 2, 2, 2, 2, 2, 2, 2, 2, 2, 2, 2, 2, 2, 2, 2, 2, 2, 2, 2, 2, 2, 2, 2, 2, 2, 3, 3, 3, 3, 3, 3, 3, 3, 3, 3, 3, 3, 3, 3, 3, 3, 3, 3, 3, 3, 3, 3, 3, 4, 4, 4, 4, 4, 4, 4, 4, 4, 4, 4, 4, 4, 4, 4, 4, 4, 4, 4, 4, 4, 4, 4, 4, 4, 4, 4, 4, 4, 4, 4, 4, 4, 4, 4, 4, 4, 4, 4, 4, 4, 4, 4, 4, 4, 4, 4, 4, 4, 4, 4, 4, 4, 4, 4, 4, 4, 4, 4, 4, 4, 4, 4, 4, 4, 4, 4, 4, 4, 4, 4, 4, 4, 4, 4, 4, 4, 4, 4, 4, 4, 4, 4, 4, 4, 4, 4, 4, 4, 4, 4, 4, 4, 4, 4, 4, 4, 4, 4, 4, 4, 4, 4, 4, 4, 4, 4, 4, 4, 4, 4, 4, 4, 4, 4, 4, 4, 4, 4, 4, 4, 4, 4, 4, 4, 4, 4, 4, 4, 4, 4, 4, 4, 4, 4, 4, 4, 4, 4, 4, 4, 4, 4, 4, 4, 4, 4, 4, 4, 4, 4, 4, 4, 4, 4, 4, 4, 4, 4, 4, 4, 4, 4, 4, 4, 4, 4, 4, 4, 4, 4, 4, 4, 4, 4, 4, 4, 4, 4, 4, 4, 4, 4, 4, 4, 4, 4, 4, 4]\n"
     ]
    },
    {
     "data": {
      "text/html": [
       "<div>\n",
       "<style scoped>\n",
       "    .dataframe tbody tr th:only-of-type {\n",
       "        vertical-align: middle;\n",
       "    }\n",
       "\n",
       "    .dataframe tbody tr th {\n",
       "        vertical-align: top;\n",
       "    }\n",
       "\n",
       "    .dataframe thead th {\n",
       "        text-align: right;\n",
       "    }\n",
       "</style>\n",
       "<table border=\"1\" class=\"dataframe\">\n",
       "  <thead>\n",
       "    <tr style=\"text-align: right;\">\n",
       "      <th></th>\n",
       "      <th>Surface_TotalSum</th>\n",
       "      <th>Surface_Compartments</th>\n",
       "      <th>Surface_Minimum</th>\n",
       "      <th>Surface_Average</th>\n",
       "      <th>Surface_Maximum</th>\n",
       "      <th>Surface_Std</th>\n",
       "      <th>Soma_Surface_TotalSum</th>\n",
       "      <th>Soma_Surface_Compartments</th>\n",
       "      <th>Soma_Surface_Minimum</th>\n",
       "      <th>Soma_Surface_Average</th>\n",
       "      <th>...</th>\n",
       "      <th>Helix_Average</th>\n",
       "      <th>Helix_Maximum</th>\n",
       "      <th>Helix_Std</th>\n",
       "      <th>Fractal_Dim_TotalSum</th>\n",
       "      <th>Fractal_Dim_Compartments</th>\n",
       "      <th>Fractal_Dim_Minimum</th>\n",
       "      <th>Fractal_Dim_Average</th>\n",
       "      <th>Fractal_Dim_Maximum</th>\n",
       "      <th>Fractal_Dim_Std</th>\n",
       "      <th>Labels</th>\n",
       "    </tr>\n",
       "  </thead>\n",
       "  <tbody>\n",
       "    <tr>\n",
       "      <th>0</th>\n",
       "      <td>10298.50</td>\n",
       "      <td>1609.0</td>\n",
       "      <td>0.124498</td>\n",
       "      <td>6.40053</td>\n",
       "      <td>259.798</td>\n",
       "      <td>9.19052</td>\n",
       "      <td>519.333</td>\n",
       "      <td>2.0</td>\n",
       "      <td>259.6670</td>\n",
       "      <td>259.6670</td>\n",
       "      <td>...</td>\n",
       "      <td>0.001659</td>\n",
       "      <td>0.32</td>\n",
       "      <td>0.069221</td>\n",
       "      <td>166.9820</td>\n",
       "      <td>162.0</td>\n",
       "      <td>1.00000</td>\n",
       "      <td>1.03076</td>\n",
       "      <td>1.23250</td>\n",
       "      <td>0.035733</td>\n",
       "      <td>0</td>\n",
       "    </tr>\n",
       "    <tr>\n",
       "      <th>1</th>\n",
       "      <td>9207.53</td>\n",
       "      <td>387.0</td>\n",
       "      <td>0.975918</td>\n",
       "      <td>23.79210</td>\n",
       "      <td>494.700</td>\n",
       "      <td>32.29140</td>\n",
       "      <td>988.341</td>\n",
       "      <td>2.0</td>\n",
       "      <td>493.8920</td>\n",
       "      <td>494.1710</td>\n",
       "      <td>...</td>\n",
       "      <td>0.002129</td>\n",
       "      <td>0.29</td>\n",
       "      <td>0.052707</td>\n",
       "      <td>43.8014</td>\n",
       "      <td>43.0</td>\n",
       "      <td>1.00000</td>\n",
       "      <td>1.01864</td>\n",
       "      <td>1.14654</td>\n",
       "      <td>0.024497</td>\n",
       "      <td>0</td>\n",
       "    </tr>\n",
       "    <tr>\n",
       "      <th>2</th>\n",
       "      <td>10841.70</td>\n",
       "      <td>311.0</td>\n",
       "      <td>5.725420</td>\n",
       "      <td>34.86090</td>\n",
       "      <td>169.424</td>\n",
       "      <td>21.43680</td>\n",
       "      <td>186.617</td>\n",
       "      <td>2.0</td>\n",
       "      <td>86.9882</td>\n",
       "      <td>93.3084</td>\n",
       "      <td>...</td>\n",
       "      <td>-0.002500</td>\n",
       "      <td>0.27</td>\n",
       "      <td>0.050838</td>\n",
       "      <td>21.4862</td>\n",
       "      <td>21.0</td>\n",
       "      <td>1.00377</td>\n",
       "      <td>1.02315</td>\n",
       "      <td>1.09405</td>\n",
       "      <td>0.019678</td>\n",
       "      <td>0</td>\n",
       "    </tr>\n",
       "    <tr>\n",
       "      <th>3</th>\n",
       "      <td>15305.00</td>\n",
       "      <td>1662.0</td>\n",
       "      <td>0.237705</td>\n",
       "      <td>9.20877</td>\n",
       "      <td>567.042</td>\n",
       "      <td>18.37820</td>\n",
       "      <td>1133.510</td>\n",
       "      <td>2.0</td>\n",
       "      <td>566.7550</td>\n",
       "      <td>566.7550</td>\n",
       "      <td>...</td>\n",
       "      <td>0.002086</td>\n",
       "      <td>0.33</td>\n",
       "      <td>0.074514</td>\n",
       "      <td>184.4360</td>\n",
       "      <td>178.0</td>\n",
       "      <td>1.00000</td>\n",
       "      <td>1.03615</td>\n",
       "      <td>1.33333</td>\n",
       "      <td>0.050886</td>\n",
       "      <td>0</td>\n",
       "    </tr>\n",
       "    <tr>\n",
       "      <th>4</th>\n",
       "      <td>16929.70</td>\n",
       "      <td>661.0</td>\n",
       "      <td>2.230010</td>\n",
       "      <td>25.61230</td>\n",
       "      <td>198.451</td>\n",
       "      <td>23.78620</td>\n",
       "      <td>262.177</td>\n",
       "      <td>2.0</td>\n",
       "      <td>131.0890</td>\n",
       "      <td>131.0890</td>\n",
       "      <td>...</td>\n",
       "      <td>-0.001304</td>\n",
       "      <td>0.26</td>\n",
       "      <td>0.046988</td>\n",
       "      <td>52.9030</td>\n",
       "      <td>52.0</td>\n",
       "      <td>1.00108</td>\n",
       "      <td>1.01737</td>\n",
       "      <td>1.11039</td>\n",
       "      <td>0.019011</td>\n",
       "      <td>0</td>\n",
       "    </tr>\n",
       "    <tr>\n",
       "      <th>...</th>\n",
       "      <td>...</td>\n",
       "      <td>...</td>\n",
       "      <td>...</td>\n",
       "      <td>...</td>\n",
       "      <td>...</td>\n",
       "      <td>...</td>\n",
       "      <td>...</td>\n",
       "      <td>...</td>\n",
       "      <td>...</td>\n",
       "      <td>...</td>\n",
       "      <td>...</td>\n",
       "      <td>...</td>\n",
       "      <td>...</td>\n",
       "      <td>...</td>\n",
       "      <td>...</td>\n",
       "      <td>...</td>\n",
       "      <td>...</td>\n",
       "      <td>...</td>\n",
       "      <td>...</td>\n",
       "      <td>...</td>\n",
       "      <td>...</td>\n",
       "    </tr>\n",
       "    <tr>\n",
       "      <th>184</th>\n",
       "      <td>13659.80</td>\n",
       "      <td>3002.0</td>\n",
       "      <td>0.370785</td>\n",
       "      <td>4.55022</td>\n",
       "      <td>1032.660</td>\n",
       "      <td>23.88400</td>\n",
       "      <td>2063.530</td>\n",
       "      <td>2.0</td>\n",
       "      <td>1031.3900</td>\n",
       "      <td>1031.7600</td>\n",
       "      <td>...</td>\n",
       "      <td>0.001181</td>\n",
       "      <td>0.32</td>\n",
       "      <td>0.044783</td>\n",
       "      <td>84.5262</td>\n",
       "      <td>81.0</td>\n",
       "      <td>1.00000</td>\n",
       "      <td>1.04353</td>\n",
       "      <td>1.44824</td>\n",
       "      <td>0.061174</td>\n",
       "      <td>4</td>\n",
       "    </tr>\n",
       "    <tr>\n",
       "      <th>185</th>\n",
       "      <td>7942.22</td>\n",
       "      <td>1516.0</td>\n",
       "      <td>0.315622</td>\n",
       "      <td>5.23893</td>\n",
       "      <td>812.160</td>\n",
       "      <td>26.58790</td>\n",
       "      <td>1622.810</td>\n",
       "      <td>2.0</td>\n",
       "      <td>811.0600</td>\n",
       "      <td>811.4050</td>\n",
       "      <td>...</td>\n",
       "      <td>-0.000027</td>\n",
       "      <td>0.31</td>\n",
       "      <td>0.041480</td>\n",
       "      <td>77.4010</td>\n",
       "      <td>75.0</td>\n",
       "      <td>1.00000</td>\n",
       "      <td>1.03201</td>\n",
       "      <td>1.33631</td>\n",
       "      <td>0.046370</td>\n",
       "      <td>4</td>\n",
       "    </tr>\n",
       "    <tr>\n",
       "      <th>186</th>\n",
       "      <td>12465.00</td>\n",
       "      <td>2474.0</td>\n",
       "      <td>0.141010</td>\n",
       "      <td>5.03842</td>\n",
       "      <td>949.616</td>\n",
       "      <td>24.37930</td>\n",
       "      <td>1897.390</td>\n",
       "      <td>2.0</td>\n",
       "      <td>948.2600</td>\n",
       "      <td>948.6970</td>\n",
       "      <td>...</td>\n",
       "      <td>-0.001435</td>\n",
       "      <td>0.31</td>\n",
       "      <td>0.054684</td>\n",
       "      <td>113.1380</td>\n",
       "      <td>108.0</td>\n",
       "      <td>1.00000</td>\n",
       "      <td>1.04758</td>\n",
       "      <td>1.35189</td>\n",
       "      <td>0.061710</td>\n",
       "      <td>4</td>\n",
       "    </tr>\n",
       "    <tr>\n",
       "      <th>187</th>\n",
       "      <td>11046.50</td>\n",
       "      <td>1971.0</td>\n",
       "      <td>0.175808</td>\n",
       "      <td>5.60449</td>\n",
       "      <td>1082.550</td>\n",
       "      <td>31.33670</td>\n",
       "      <td>2164.010</td>\n",
       "      <td>2.0</td>\n",
       "      <td>1082.0000</td>\n",
       "      <td>1082.0000</td>\n",
       "      <td>...</td>\n",
       "      <td>-0.002039</td>\n",
       "      <td>0.31</td>\n",
       "      <td>0.042203</td>\n",
       "      <td>120.3340</td>\n",
       "      <td>117.0</td>\n",
       "      <td>1.00000</td>\n",
       "      <td>1.02849</td>\n",
       "      <td>1.16069</td>\n",
       "      <td>0.032937</td>\n",
       "      <td>4</td>\n",
       "    </tr>\n",
       "    <tr>\n",
       "      <th>188</th>\n",
       "      <td>7335.47</td>\n",
       "      <td>1457.0</td>\n",
       "      <td>0.417661</td>\n",
       "      <td>5.03464</td>\n",
       "      <td>604.110</td>\n",
       "      <td>20.44420</td>\n",
       "      <td>1207.610</td>\n",
       "      <td>2.0</td>\n",
       "      <td>603.8030</td>\n",
       "      <td>603.8030</td>\n",
       "      <td>...</td>\n",
       "      <td>-0.001578</td>\n",
       "      <td>0.28</td>\n",
       "      <td>0.057092</td>\n",
       "      <td>87.0453</td>\n",
       "      <td>84.0</td>\n",
       "      <td>1.00000</td>\n",
       "      <td>1.03625</td>\n",
       "      <td>1.30386</td>\n",
       "      <td>0.056411</td>\n",
       "      <td>4</td>\n",
       "    </tr>\n",
       "  </tbody>\n",
       "</table>\n",
       "<p>457 rows × 259 columns</p>\n",
       "</div>"
      ],
      "text/plain": [
       "     Surface_TotalSum  Surface_Compartments  Surface_Minimum  Surface_Average  \\\n",
       "0            10298.50                1609.0         0.124498          6.40053   \n",
       "1             9207.53                 387.0         0.975918         23.79210   \n",
       "2            10841.70                 311.0         5.725420         34.86090   \n",
       "3            15305.00                1662.0         0.237705          9.20877   \n",
       "4            16929.70                 661.0         2.230010         25.61230   \n",
       "..                ...                   ...              ...              ...   \n",
       "184          13659.80                3002.0         0.370785          4.55022   \n",
       "185           7942.22                1516.0         0.315622          5.23893   \n",
       "186          12465.00                2474.0         0.141010          5.03842   \n",
       "187          11046.50                1971.0         0.175808          5.60449   \n",
       "188           7335.47                1457.0         0.417661          5.03464   \n",
       "\n",
       "     Surface_Maximum  Surface_Std  Soma_Surface_TotalSum  \\\n",
       "0            259.798      9.19052                519.333   \n",
       "1            494.700     32.29140                988.341   \n",
       "2            169.424     21.43680                186.617   \n",
       "3            567.042     18.37820               1133.510   \n",
       "4            198.451     23.78620                262.177   \n",
       "..               ...          ...                    ...   \n",
       "184         1032.660     23.88400               2063.530   \n",
       "185          812.160     26.58790               1622.810   \n",
       "186          949.616     24.37930               1897.390   \n",
       "187         1082.550     31.33670               2164.010   \n",
       "188          604.110     20.44420               1207.610   \n",
       "\n",
       "     Soma_Surface_Compartments  Soma_Surface_Minimum  Soma_Surface_Average  \\\n",
       "0                          2.0              259.6670              259.6670   \n",
       "1                          2.0              493.8920              494.1710   \n",
       "2                          2.0               86.9882               93.3084   \n",
       "3                          2.0              566.7550              566.7550   \n",
       "4                          2.0              131.0890              131.0890   \n",
       "..                         ...                   ...                   ...   \n",
       "184                        2.0             1031.3900             1031.7600   \n",
       "185                        2.0              811.0600              811.4050   \n",
       "186                        2.0              948.2600              948.6970   \n",
       "187                        2.0             1082.0000             1082.0000   \n",
       "188                        2.0              603.8030              603.8030   \n",
       "\n",
       "     ...  Helix_Average  Helix_Maximum  Helix_Std  Fractal_Dim_TotalSum  \\\n",
       "0    ...       0.001659           0.32   0.069221              166.9820   \n",
       "1    ...       0.002129           0.29   0.052707               43.8014   \n",
       "2    ...      -0.002500           0.27   0.050838               21.4862   \n",
       "3    ...       0.002086           0.33   0.074514              184.4360   \n",
       "4    ...      -0.001304           0.26   0.046988               52.9030   \n",
       "..   ...            ...            ...        ...                   ...   \n",
       "184  ...       0.001181           0.32   0.044783               84.5262   \n",
       "185  ...      -0.000027           0.31   0.041480               77.4010   \n",
       "186  ...      -0.001435           0.31   0.054684              113.1380   \n",
       "187  ...      -0.002039           0.31   0.042203              120.3340   \n",
       "188  ...      -0.001578           0.28   0.057092               87.0453   \n",
       "\n",
       "     Fractal_Dim_Compartments  Fractal_Dim_Minimum  Fractal_Dim_Average  \\\n",
       "0                       162.0              1.00000              1.03076   \n",
       "1                        43.0              1.00000              1.01864   \n",
       "2                        21.0              1.00377              1.02315   \n",
       "3                       178.0              1.00000              1.03615   \n",
       "4                        52.0              1.00108              1.01737   \n",
       "..                        ...                  ...                  ...   \n",
       "184                      81.0              1.00000              1.04353   \n",
       "185                      75.0              1.00000              1.03201   \n",
       "186                     108.0              1.00000              1.04758   \n",
       "187                     117.0              1.00000              1.02849   \n",
       "188                      84.0              1.00000              1.03625   \n",
       "\n",
       "     Fractal_Dim_Maximum  Fractal_Dim_Std  Labels  \n",
       "0                1.23250         0.035733       0  \n",
       "1                1.14654         0.024497       0  \n",
       "2                1.09405         0.019678       0  \n",
       "3                1.33333         0.050886       0  \n",
       "4                1.11039         0.019011       0  \n",
       "..                   ...              ...     ...  \n",
       "184              1.44824         0.061174       4  \n",
       "185              1.33631         0.046370       4  \n",
       "186              1.35189         0.061710       4  \n",
       "187              1.16069         0.032937       4  \n",
       "188              1.30386         0.056411       4  \n",
       "\n",
       "[457 rows x 259 columns]"
      ]
     },
     "execution_count": 10,
     "metadata": {},
     "output_type": "execute_result"
    }
   ],
   "source": [
    "\n",
    "\n",
    "labels = sum(labels, [])\n",
    "\n",
    "print(labels)\n",
    "\n",
    "data['Labels'] = labels\n",
    "data"
   ]
  },
  {
   "cell_type": "markdown",
   "metadata": {},
   "source": [
    "# Reloading data and EDA"
   ]
  },
  {
   "cell_type": "code",
   "execution_count": 2,
   "metadata": {},
   "outputs": [],
   "source": [
    "data = pd.read_csv('Neuron_data.csv')"
   ]
  },
  {
   "cell_type": "code",
   "execution_count": 4,
   "metadata": {},
   "outputs": [
    {
     "data": {
      "text/html": [
       "<div>\n",
       "<style scoped>\n",
       "    .dataframe tbody tr th:only-of-type {\n",
       "        vertical-align: middle;\n",
       "    }\n",
       "\n",
       "    .dataframe tbody tr th {\n",
       "        vertical-align: top;\n",
       "    }\n",
       "\n",
       "    .dataframe thead th {\n",
       "        text-align: right;\n",
       "    }\n",
       "</style>\n",
       "<table border=\"1\" class=\"dataframe\">\n",
       "  <thead>\n",
       "    <tr style=\"text-align: right;\">\n",
       "      <th></th>\n",
       "      <th>Surface_TotalSum</th>\n",
       "      <th>Surface_Compartments</th>\n",
       "      <th>Surface_Minimum</th>\n",
       "      <th>Surface_Average</th>\n",
       "      <th>Surface_Maximum</th>\n",
       "      <th>Surface_Std</th>\n",
       "      <th>Soma_Surface_TotalSum</th>\n",
       "      <th>Soma_Surface_Compartments</th>\n",
       "      <th>Soma_Surface_Minimum</th>\n",
       "      <th>Soma_Surface_Average</th>\n",
       "      <th>...</th>\n",
       "      <th>Helix_Average</th>\n",
       "      <th>Helix_Maximum</th>\n",
       "      <th>Helix_Std</th>\n",
       "      <th>Fractal_Dim_TotalSum</th>\n",
       "      <th>Fractal_Dim_Compartments</th>\n",
       "      <th>Fractal_Dim_Minimum</th>\n",
       "      <th>Fractal_Dim_Average</th>\n",
       "      <th>Fractal_Dim_Maximum</th>\n",
       "      <th>Fractal_Dim_Std</th>\n",
       "      <th>Labels</th>\n",
       "    </tr>\n",
       "  </thead>\n",
       "  <tbody>\n",
       "    <tr>\n",
       "      <th>count</th>\n",
       "      <td>457.000000</td>\n",
       "      <td>457.000000</td>\n",
       "      <td>457.000000</td>\n",
       "      <td>457.000000</td>\n",
       "      <td>457.000000</td>\n",
       "      <td>457.000000</td>\n",
       "      <td>457.000000</td>\n",
       "      <td>457.000000</td>\n",
       "      <td>457.000000</td>\n",
       "      <td>457.000000</td>\n",
       "      <td>...</td>\n",
       "      <td>457.000000</td>\n",
       "      <td>457.000000</td>\n",
       "      <td>457.000000</td>\n",
       "      <td>457.000000</td>\n",
       "      <td>457.000000</td>\n",
       "      <td>457.000000</td>\n",
       "      <td>457.000000</td>\n",
       "      <td>457.000000</td>\n",
       "      <td>457.000000</td>\n",
       "      <td>457.000000</td>\n",
       "    </tr>\n",
       "    <tr>\n",
       "      <th>mean</th>\n",
       "      <td>11094.481094</td>\n",
       "      <td>1457.949672</td>\n",
       "      <td>0.517866</td>\n",
       "      <td>9.589048</td>\n",
       "      <td>606.078765</td>\n",
       "      <td>23.998856</td>\n",
       "      <td>1360.996025</td>\n",
       "      <td>4.735230</td>\n",
       "      <td>528.347085</td>\n",
       "      <td>546.246421</td>\n",
       "      <td>...</td>\n",
       "      <td>-0.000009</td>\n",
       "      <td>0.243632</td>\n",
       "      <td>0.041863</td>\n",
       "      <td>88.226074</td>\n",
       "      <td>85.838074</td>\n",
       "      <td>0.996037</td>\n",
       "      <td>1.026603</td>\n",
       "      <td>1.197627</td>\n",
       "      <td>0.033938</td>\n",
       "      <td>2.494530</td>\n",
       "    </tr>\n",
       "    <tr>\n",
       "      <th>std</th>\n",
       "      <td>10502.514000</td>\n",
       "      <td>990.694703</td>\n",
       "      <td>0.868422</td>\n",
       "      <td>8.323800</td>\n",
       "      <td>553.188097</td>\n",
       "      <td>14.354085</td>\n",
       "      <td>1145.922225</td>\n",
       "      <td>6.151052</td>\n",
       "      <td>575.444949</td>\n",
       "      <td>562.204245</td>\n",
       "      <td>...</td>\n",
       "      <td>0.001818</td>\n",
       "      <td>0.088783</td>\n",
       "      <td>0.021265</td>\n",
       "      <td>55.425569</td>\n",
       "      <td>53.715912</td>\n",
       "      <td>0.022982</td>\n",
       "      <td>0.014973</td>\n",
       "      <td>0.119614</td>\n",
       "      <td>0.016211</td>\n",
       "      <td>1.437466</td>\n",
       "    </tr>\n",
       "    <tr>\n",
       "      <th>min</th>\n",
       "      <td>1853.580000</td>\n",
       "      <td>104.000000</td>\n",
       "      <td>0.027847</td>\n",
       "      <td>3.053450</td>\n",
       "      <td>72.471700</td>\n",
       "      <td>6.186020</td>\n",
       "      <td>32.829600</td>\n",
       "      <td>2.000000</td>\n",
       "      <td>8.196350</td>\n",
       "      <td>16.414800</td>\n",
       "      <td>...</td>\n",
       "      <td>-0.012128</td>\n",
       "      <td>0.000000</td>\n",
       "      <td>0.000000</td>\n",
       "      <td>8.055450</td>\n",
       "      <td>8.000000</td>\n",
       "      <td>0.773862</td>\n",
       "      <td>1.002600</td>\n",
       "      <td>1.014800</td>\n",
       "      <td>0.003960</td>\n",
       "      <td>0.000000</td>\n",
       "    </tr>\n",
       "    <tr>\n",
       "      <th>25%</th>\n",
       "      <td>5902.250000</td>\n",
       "      <td>710.000000</td>\n",
       "      <td>0.200238</td>\n",
       "      <td>4.881650</td>\n",
       "      <td>246.794000</td>\n",
       "      <td>14.671200</td>\n",
       "      <td>686.528000</td>\n",
       "      <td>2.000000</td>\n",
       "      <td>71.555200</td>\n",
       "      <td>131.089000</td>\n",
       "      <td>...</td>\n",
       "      <td>-0.000859</td>\n",
       "      <td>0.230000</td>\n",
       "      <td>0.031793</td>\n",
       "      <td>53.449900</td>\n",
       "      <td>52.000000</td>\n",
       "      <td>1.000000</td>\n",
       "      <td>1.014720</td>\n",
       "      <td>1.113480</td>\n",
       "      <td>0.022951</td>\n",
       "      <td>1.000000</td>\n",
       "    </tr>\n",
       "    <tr>\n",
       "      <th>50%</th>\n",
       "      <td>8765.320000</td>\n",
       "      <td>1302.000000</td>\n",
       "      <td>0.307907</td>\n",
       "      <td>6.473110</td>\n",
       "      <td>526.398000</td>\n",
       "      <td>20.902400</td>\n",
       "      <td>1202.700000</td>\n",
       "      <td>2.000000</td>\n",
       "      <td>483.132000</td>\n",
       "      <td>483.132000</td>\n",
       "      <td>...</td>\n",
       "      <td>0.000000</td>\n",
       "      <td>0.270000</td>\n",
       "      <td>0.041140</td>\n",
       "      <td>76.959000</td>\n",
       "      <td>75.000000</td>\n",
       "      <td>1.000000</td>\n",
       "      <td>1.025930</td>\n",
       "      <td>1.170980</td>\n",
       "      <td>0.031127</td>\n",
       "      <td>2.000000</td>\n",
       "    </tr>\n",
       "    <tr>\n",
       "      <th>75%</th>\n",
       "      <td>11743.500000</td>\n",
       "      <td>2061.000000</td>\n",
       "      <td>0.481036</td>\n",
       "      <td>11.017100</td>\n",
       "      <td>788.440000</td>\n",
       "      <td>29.259500</td>\n",
       "      <td>1671.140000</td>\n",
       "      <td>4.000000</td>\n",
       "      <td>771.973000</td>\n",
       "      <td>772.307000</td>\n",
       "      <td>...</td>\n",
       "      <td>0.000698</td>\n",
       "      <td>0.300000</td>\n",
       "      <td>0.052297</td>\n",
       "      <td>103.421000</td>\n",
       "      <td>101.000000</td>\n",
       "      <td>1.000000</td>\n",
       "      <td>1.033870</td>\n",
       "      <td>1.245530</td>\n",
       "      <td>0.041983</td>\n",
       "      <td>4.000000</td>\n",
       "    </tr>\n",
       "    <tr>\n",
       "      <th>max</th>\n",
       "      <td>82952.300000</td>\n",
       "      <td>7535.000000</td>\n",
       "      <td>8.653900</td>\n",
       "      <td>70.107500</td>\n",
       "      <td>4857.820000</td>\n",
       "      <td>106.760000</td>\n",
       "      <td>9710.710000</td>\n",
       "      <td>43.000000</td>\n",
       "      <td>4855.360000</td>\n",
       "      <td>4855.360000</td>\n",
       "      <td>...</td>\n",
       "      <td>0.008156</td>\n",
       "      <td>0.330000</td>\n",
       "      <td>0.124921</td>\n",
       "      <td>504.148000</td>\n",
       "      <td>487.000000</td>\n",
       "      <td>1.010680</td>\n",
       "      <td>1.099700</td>\n",
       "      <td>1.767070</td>\n",
       "      <td>0.142651</td>\n",
       "      <td>4.000000</td>\n",
       "    </tr>\n",
       "  </tbody>\n",
       "</table>\n",
       "<p>8 rows × 259 columns</p>\n",
       "</div>"
      ],
      "text/plain": [
       "       Surface_TotalSum  Surface_Compartments  Surface_Minimum  \\\n",
       "count        457.000000            457.000000       457.000000   \n",
       "mean       11094.481094           1457.949672         0.517866   \n",
       "std        10502.514000            990.694703         0.868422   \n",
       "min         1853.580000            104.000000         0.027847   \n",
       "25%         5902.250000            710.000000         0.200238   \n",
       "50%         8765.320000           1302.000000         0.307907   \n",
       "75%        11743.500000           2061.000000         0.481036   \n",
       "max        82952.300000           7535.000000         8.653900   \n",
       "\n",
       "       Surface_Average  Surface_Maximum  Surface_Std  Soma_Surface_TotalSum  \\\n",
       "count       457.000000       457.000000   457.000000             457.000000   \n",
       "mean          9.589048       606.078765    23.998856            1360.996025   \n",
       "std           8.323800       553.188097    14.354085            1145.922225   \n",
       "min           3.053450        72.471700     6.186020              32.829600   \n",
       "25%           4.881650       246.794000    14.671200             686.528000   \n",
       "50%           6.473110       526.398000    20.902400            1202.700000   \n",
       "75%          11.017100       788.440000    29.259500            1671.140000   \n",
       "max          70.107500      4857.820000   106.760000            9710.710000   \n",
       "\n",
       "       Soma_Surface_Compartments  Soma_Surface_Minimum  Soma_Surface_Average  \\\n",
       "count                 457.000000            457.000000            457.000000   \n",
       "mean                    4.735230            528.347085            546.246421   \n",
       "std                     6.151052            575.444949            562.204245   \n",
       "min                     2.000000              8.196350             16.414800   \n",
       "25%                     2.000000             71.555200            131.089000   \n",
       "50%                     2.000000            483.132000            483.132000   \n",
       "75%                     4.000000            771.973000            772.307000   \n",
       "max                    43.000000           4855.360000           4855.360000   \n",
       "\n",
       "       ...  Helix_Average  Helix_Maximum   Helix_Std  Fractal_Dim_TotalSum  \\\n",
       "count  ...     457.000000     457.000000  457.000000            457.000000   \n",
       "mean   ...      -0.000009       0.243632    0.041863             88.226074   \n",
       "std    ...       0.001818       0.088783    0.021265             55.425569   \n",
       "min    ...      -0.012128       0.000000    0.000000              8.055450   \n",
       "25%    ...      -0.000859       0.230000    0.031793             53.449900   \n",
       "50%    ...       0.000000       0.270000    0.041140             76.959000   \n",
       "75%    ...       0.000698       0.300000    0.052297            103.421000   \n",
       "max    ...       0.008156       0.330000    0.124921            504.148000   \n",
       "\n",
       "       Fractal_Dim_Compartments  Fractal_Dim_Minimum  Fractal_Dim_Average  \\\n",
       "count                457.000000           457.000000           457.000000   \n",
       "mean                  85.838074             0.996037             1.026603   \n",
       "std                   53.715912             0.022982             0.014973   \n",
       "min                    8.000000             0.773862             1.002600   \n",
       "25%                   52.000000             1.000000             1.014720   \n",
       "50%                   75.000000             1.000000             1.025930   \n",
       "75%                  101.000000             1.000000             1.033870   \n",
       "max                  487.000000             1.010680             1.099700   \n",
       "\n",
       "       Fractal_Dim_Maximum  Fractal_Dim_Std      Labels  \n",
       "count           457.000000       457.000000  457.000000  \n",
       "mean              1.197627         0.033938    2.494530  \n",
       "std               0.119614         0.016211    1.437466  \n",
       "min               1.014800         0.003960    0.000000  \n",
       "25%               1.113480         0.022951    1.000000  \n",
       "50%               1.170980         0.031127    2.000000  \n",
       "75%               1.245530         0.041983    4.000000  \n",
       "max               1.767070         0.142651    4.000000  \n",
       "\n",
       "[8 rows x 259 columns]"
      ]
     },
     "execution_count": 4,
     "metadata": {},
     "output_type": "execute_result"
    }
   ],
   "source": [
    "data.describe()"
   ]
  },
  {
   "cell_type": "code",
   "execution_count": 6,
   "metadata": {},
   "outputs": [
    {
     "name": "stdout",
     "output_type": "stream",
     "text": [
      "<class 'pandas.core.frame.DataFrame'>\n",
      "RangeIndex: 457 entries, 0 to 456\n",
      "Columns: 259 entries, Surface_TotalSum to Labels\n",
      "dtypes: float64(258), int64(1)\n",
      "memory usage: 924.8 KB\n"
     ]
    }
   ],
   "source": [
    "data.info()"
   ]
  },
  {
   "cell_type": "code",
   "execution_count": 8,
   "metadata": {},
   "outputs": [
    {
     "name": "stdout",
     "output_type": "stream",
     "text": [
      "Number of duplicated columns : 0\n"
     ]
    }
   ],
   "source": [
    "print(f'Number of duplicated columns : {data.columns.duplicated().sum()}')\n",
    "\n",
    "data = data.loc[:,~data.columns.duplicated()] # drop duplicated columns if present"
   ]
  },
  {
   "cell_type": "code",
   "execution_count": 9,
   "metadata": {},
   "outputs": [
    {
     "data": {
      "text/plain": [
       "Surface_TotalSum        0\n",
       "Surface_Compartments    0\n",
       "Surface_Minimum         0\n",
       "Surface_Average         0\n",
       "Surface_Maximum         0\n",
       "                       ..\n",
       "Fractal_Dim_Minimum     0\n",
       "Fractal_Dim_Average     0\n",
       "Fractal_Dim_Maximum     0\n",
       "Fractal_Dim_Std         0\n",
       "Labels                  0\n",
       "Length: 259, dtype: int64"
      ]
     },
     "execution_count": 9,
     "metadata": {},
     "output_type": "execute_result"
    }
   ],
   "source": [
    "data.apply(lambda x: sum(x.isnull()),axis=0) # Checking for missing values\n"
   ]
  },
  {
   "cell_type": "code",
   "execution_count": 10,
   "metadata": {},
   "outputs": [
    {
     "data": {
      "text/html": [
       "<div>\n",
       "<style scoped>\n",
       "    .dataframe tbody tr th:only-of-type {\n",
       "        vertical-align: middle;\n",
       "    }\n",
       "\n",
       "    .dataframe tbody tr th {\n",
       "        vertical-align: top;\n",
       "    }\n",
       "\n",
       "    .dataframe thead th {\n",
       "        text-align: right;\n",
       "    }\n",
       "</style>\n",
       "<table border=\"1\" class=\"dataframe\">\n",
       "  <thead>\n",
       "    <tr style=\"text-align: right;\">\n",
       "      <th></th>\n",
       "      <th>Surface_TotalSum</th>\n",
       "      <th>Surface_Compartments</th>\n",
       "      <th>Surface_Minimum</th>\n",
       "      <th>Surface_Average</th>\n",
       "      <th>Surface_Maximum</th>\n",
       "      <th>Surface_Std</th>\n",
       "      <th>Soma_Surface_TotalSum</th>\n",
       "      <th>Soma_Surface_Compartments</th>\n",
       "      <th>Soma_Surface_Minimum</th>\n",
       "      <th>Soma_Surface_Average</th>\n",
       "      <th>...</th>\n",
       "      <th>Helix_Average</th>\n",
       "      <th>Helix_Maximum</th>\n",
       "      <th>Helix_Std</th>\n",
       "      <th>Fractal_Dim_TotalSum</th>\n",
       "      <th>Fractal_Dim_Compartments</th>\n",
       "      <th>Fractal_Dim_Minimum</th>\n",
       "      <th>Fractal_Dim_Average</th>\n",
       "      <th>Fractal_Dim_Maximum</th>\n",
       "      <th>Fractal_Dim_Std</th>\n",
       "      <th>Labels</th>\n",
       "    </tr>\n",
       "  </thead>\n",
       "  <tbody>\n",
       "    <tr>\n",
       "      <th>0</th>\n",
       "      <td>6072.09</td>\n",
       "      <td>294.0</td>\n",
       "      <td>1.510580</td>\n",
       "      <td>20.65340</td>\n",
       "      <td>290.126</td>\n",
       "      <td>23.3875</td>\n",
       "      <td>579.958</td>\n",
       "      <td>2.0</td>\n",
       "      <td>289.979</td>\n",
       "      <td>289.979</td>\n",
       "      <td>...</td>\n",
       "      <td>0.001314</td>\n",
       "      <td>0.22</td>\n",
       "      <td>0.065214</td>\n",
       "      <td>26.4075</td>\n",
       "      <td>26.0</td>\n",
       "      <td>1.00056</td>\n",
       "      <td>1.01567</td>\n",
       "      <td>1.04485</td>\n",
       "      <td>0.011203</td>\n",
       "      <td>0</td>\n",
       "    </tr>\n",
       "    <tr>\n",
       "      <th>1</th>\n",
       "      <td>6782.60</td>\n",
       "      <td>790.0</td>\n",
       "      <td>1.235720</td>\n",
       "      <td>8.58558</td>\n",
       "      <td>738.442</td>\n",
       "      <td>33.0967</td>\n",
       "      <td>1476.130</td>\n",
       "      <td>2.0</td>\n",
       "      <td>738.067</td>\n",
       "      <td>738.067</td>\n",
       "      <td>...</td>\n",
       "      <td>-0.000897</td>\n",
       "      <td>0.25</td>\n",
       "      <td>0.027285</td>\n",
       "      <td>48.2147</td>\n",
       "      <td>47.0</td>\n",
       "      <td>1.00000</td>\n",
       "      <td>1.02585</td>\n",
       "      <td>1.20011</td>\n",
       "      <td>0.035210</td>\n",
       "      <td>4</td>\n",
       "    </tr>\n",
       "    <tr>\n",
       "      <th>2</th>\n",
       "      <td>10537.30</td>\n",
       "      <td>2102.0</td>\n",
       "      <td>0.319567</td>\n",
       "      <td>5.01298</td>\n",
       "      <td>581.189</td>\n",
       "      <td>16.4276</td>\n",
       "      <td>1161.220</td>\n",
       "      <td>2.0</td>\n",
       "      <td>580.327</td>\n",
       "      <td>580.610</td>\n",
       "      <td>...</td>\n",
       "      <td>-0.000014</td>\n",
       "      <td>0.29</td>\n",
       "      <td>0.045526</td>\n",
       "      <td>58.5416</td>\n",
       "      <td>56.0</td>\n",
       "      <td>1.00000</td>\n",
       "      <td>1.04539</td>\n",
       "      <td>1.22761</td>\n",
       "      <td>0.051910</td>\n",
       "      <td>4</td>\n",
       "    </tr>\n",
       "    <tr>\n",
       "      <th>3</th>\n",
       "      <td>11711.50</td>\n",
       "      <td>2243.0</td>\n",
       "      <td>0.337370</td>\n",
       "      <td>5.22137</td>\n",
       "      <td>546.393</td>\n",
       "      <td>15.4518</td>\n",
       "      <td>1092.230</td>\n",
       "      <td>2.0</td>\n",
       "      <td>546.116</td>\n",
       "      <td>546.116</td>\n",
       "      <td>...</td>\n",
       "      <td>-0.001265</td>\n",
       "      <td>0.25</td>\n",
       "      <td>0.040497</td>\n",
       "      <td>103.1760</td>\n",
       "      <td>100.0</td>\n",
       "      <td>1.00000</td>\n",
       "      <td>1.03176</td>\n",
       "      <td>1.24019</td>\n",
       "      <td>0.039279</td>\n",
       "      <td>4</td>\n",
       "    </tr>\n",
       "    <tr>\n",
       "      <th>4</th>\n",
       "      <td>8882.49</td>\n",
       "      <td>2255.0</td>\n",
       "      <td>0.317272</td>\n",
       "      <td>3.93902</td>\n",
       "      <td>799.620</td>\n",
       "      <td>21.3077</td>\n",
       "      <td>1597.460</td>\n",
       "      <td>2.0</td>\n",
       "      <td>798.242</td>\n",
       "      <td>798.728</td>\n",
       "      <td>...</td>\n",
       "      <td>-0.000125</td>\n",
       "      <td>0.32</td>\n",
       "      <td>0.057885</td>\n",
       "      <td>94.5331</td>\n",
       "      <td>90.0</td>\n",
       "      <td>1.00000</td>\n",
       "      <td>1.05037</td>\n",
       "      <td>1.24618</td>\n",
       "      <td>0.052567</td>\n",
       "      <td>4</td>\n",
       "    </tr>\n",
       "  </tbody>\n",
       "</table>\n",
       "<p>5 rows × 259 columns</p>\n",
       "</div>"
      ],
      "text/plain": [
       "   Surface_TotalSum  Surface_Compartments  Surface_Minimum  Surface_Average  \\\n",
       "0           6072.09                 294.0         1.510580         20.65340   \n",
       "1           6782.60                 790.0         1.235720          8.58558   \n",
       "2          10537.30                2102.0         0.319567          5.01298   \n",
       "3          11711.50                2243.0         0.337370          5.22137   \n",
       "4           8882.49                2255.0         0.317272          3.93902   \n",
       "\n",
       "   Surface_Maximum  Surface_Std  Soma_Surface_TotalSum  \\\n",
       "0          290.126      23.3875                579.958   \n",
       "1          738.442      33.0967               1476.130   \n",
       "2          581.189      16.4276               1161.220   \n",
       "3          546.393      15.4518               1092.230   \n",
       "4          799.620      21.3077               1597.460   \n",
       "\n",
       "   Soma_Surface_Compartments  Soma_Surface_Minimum  Soma_Surface_Average  ...  \\\n",
       "0                        2.0               289.979               289.979  ...   \n",
       "1                        2.0               738.067               738.067  ...   \n",
       "2                        2.0               580.327               580.610  ...   \n",
       "3                        2.0               546.116               546.116  ...   \n",
       "4                        2.0               798.242               798.728  ...   \n",
       "\n",
       "   Helix_Average  Helix_Maximum  Helix_Std  Fractal_Dim_TotalSum  \\\n",
       "0       0.001314           0.22   0.065214               26.4075   \n",
       "1      -0.000897           0.25   0.027285               48.2147   \n",
       "2      -0.000014           0.29   0.045526               58.5416   \n",
       "3      -0.001265           0.25   0.040497              103.1760   \n",
       "4      -0.000125           0.32   0.057885               94.5331   \n",
       "\n",
       "   Fractal_Dim_Compartments  Fractal_Dim_Minimum  Fractal_Dim_Average  \\\n",
       "0                      26.0              1.00056              1.01567   \n",
       "1                      47.0              1.00000              1.02585   \n",
       "2                      56.0              1.00000              1.04539   \n",
       "3                     100.0              1.00000              1.03176   \n",
       "4                      90.0              1.00000              1.05037   \n",
       "\n",
       "   Fractal_Dim_Maximum  Fractal_Dim_Std  Labels  \n",
       "0              1.04485         0.011203       0  \n",
       "1              1.20011         0.035210       4  \n",
       "2              1.22761         0.051910       4  \n",
       "3              1.24019         0.039279       4  \n",
       "4              1.24618         0.052567       4  \n",
       "\n",
       "[5 rows x 259 columns]"
      ]
     },
     "execution_count": 10,
     "metadata": {},
     "output_type": "execute_result"
    }
   ],
   "source": [
    "data = data.sample(frac=1).reset_index(drop=True)# Resample data\n",
    "data.head()"
   ]
  },
  {
   "cell_type": "code",
   "execution_count": 14,
   "metadata": {},
   "outputs": [
    {
     "data": {
      "application/vnd.plotly.v1+json": {
       "config": {
        "plotlyServerURL": "https://plot.ly"
       },
       "data": [
        {
         "alignmentgroup": "True",
         "bingroup": "x",
         "hovertemplate": "Labels=%{x}<br>count=%{y}<extra></extra>",
         "legendgroup": "0",
         "marker": {
          "color": "#636efa"
         },
         "name": "0",
         "offsetgroup": "0",
         "orientation": "v",
         "showlegend": true,
         "type": "histogram",
         "x": [
          0,
          0,
          0,
          0,
          0,
          0,
          0,
          0,
          0,
          0,
          0,
          0,
          0,
          0,
          0,
          0,
          0,
          0,
          0,
          0,
          0,
          0,
          0,
          0,
          0,
          0,
          0,
          0,
          0,
          0,
          0,
          0,
          0,
          0,
          0,
          0,
          0,
          0,
          0,
          0,
          0,
          0,
          0,
          0,
          0,
          0,
          0,
          0,
          0,
          0
         ],
         "xaxis": "x",
         "yaxis": "y"
        },
        {
         "alignmentgroup": "True",
         "bingroup": "x",
         "hovertemplate": "Labels=%{x}<br>count=%{y}<extra></extra>",
         "legendgroup": "4",
         "marker": {
          "color": "#EF553B"
         },
         "name": "4",
         "offsetgroup": "4",
         "orientation": "v",
         "showlegend": true,
         "type": "histogram",
         "x": [
          4,
          4,
          4,
          4,
          4,
          4,
          4,
          4,
          4,
          4,
          4,
          4,
          4,
          4,
          4,
          4,
          4,
          4,
          4,
          4,
          4,
          4,
          4,
          4,
          4,
          4,
          4,
          4,
          4,
          4,
          4,
          4,
          4,
          4,
          4,
          4,
          4,
          4,
          4,
          4,
          4,
          4,
          4,
          4,
          4,
          4,
          4,
          4,
          4,
          4,
          4,
          4,
          4,
          4,
          4,
          4,
          4,
          4,
          4,
          4,
          4,
          4,
          4,
          4,
          4,
          4,
          4,
          4,
          4,
          4,
          4,
          4,
          4,
          4,
          4,
          4,
          4,
          4,
          4,
          4,
          4,
          4,
          4,
          4,
          4,
          4,
          4,
          4,
          4,
          4,
          4,
          4,
          4,
          4,
          4,
          4,
          4,
          4,
          4,
          4,
          4,
          4,
          4,
          4,
          4,
          4,
          4,
          4,
          4,
          4,
          4,
          4,
          4,
          4,
          4,
          4,
          4,
          4,
          4,
          4,
          4,
          4,
          4,
          4,
          4,
          4,
          4,
          4,
          4,
          4,
          4,
          4,
          4,
          4,
          4,
          4,
          4,
          4,
          4,
          4,
          4,
          4,
          4,
          4,
          4,
          4,
          4,
          4,
          4,
          4,
          4,
          4,
          4,
          4,
          4,
          4,
          4,
          4,
          4,
          4,
          4,
          4,
          4,
          4,
          4,
          4,
          4,
          4,
          4,
          4,
          4,
          4,
          4,
          4,
          4,
          4,
          4,
          4,
          4,
          4,
          4,
          4,
          4,
          4,
          4,
          4,
          4,
          4,
          4
         ],
         "xaxis": "x",
         "yaxis": "y"
        },
        {
         "alignmentgroup": "True",
         "bingroup": "x",
         "hovertemplate": "Labels=%{x}<br>count=%{y}<extra></extra>",
         "legendgroup": "2",
         "marker": {
          "color": "#00cc96"
         },
         "name": "2",
         "offsetgroup": "2",
         "orientation": "v",
         "showlegend": true,
         "type": "histogram",
         "x": [
          2,
          2,
          2,
          2,
          2,
          2,
          2,
          2,
          2,
          2,
          2,
          2,
          2,
          2,
          2,
          2,
          2,
          2,
          2,
          2,
          2,
          2,
          2,
          2,
          2,
          2,
          2,
          2,
          2,
          2,
          2,
          2,
          2,
          2,
          2,
          2,
          2,
          2,
          2,
          2,
          2,
          2,
          2,
          2,
          2,
          2,
          2,
          2,
          2,
          2,
          2,
          2,
          2,
          2,
          2,
          2,
          2,
          2,
          2,
          2,
          2,
          2,
          2,
          2,
          2,
          2,
          2,
          2,
          2,
          2,
          2,
          2,
          2,
          2,
          2,
          2,
          2,
          2,
          2,
          2,
          2,
          2,
          2,
          2,
          2,
          2,
          2,
          2,
          2,
          2,
          2,
          2,
          2,
          2,
          2,
          2,
          2,
          2,
          2,
          2,
          2,
          2,
          2,
          2,
          2,
          2,
          2,
          2,
          2,
          2,
          2,
          2,
          2,
          2,
          2,
          2,
          2,
          2,
          2,
          2
         ],
         "xaxis": "x",
         "yaxis": "y"
        },
        {
         "alignmentgroup": "True",
         "bingroup": "x",
         "hovertemplate": "Labels=%{x}<br>count=%{y}<extra></extra>",
         "legendgroup": "3",
         "marker": {
          "color": "#ab63fa"
         },
         "name": "3",
         "offsetgroup": "3",
         "orientation": "v",
         "showlegend": true,
         "type": "histogram",
         "x": [
          3,
          3,
          3,
          3,
          3,
          3,
          3,
          3,
          3,
          3,
          3,
          3,
          3,
          3,
          3,
          3,
          3,
          3,
          3,
          3,
          3,
          3,
          3
         ],
         "xaxis": "x",
         "yaxis": "y"
        },
        {
         "alignmentgroup": "True",
         "bingroup": "x",
         "hovertemplate": "Labels=%{x}<br>count=%{y}<extra></extra>",
         "legendgroup": "1",
         "marker": {
          "color": "#FFA15A"
         },
         "name": "1",
         "offsetgroup": "1",
         "orientation": "v",
         "showlegend": true,
         "type": "histogram",
         "x": [
          1,
          1,
          1,
          1,
          1,
          1,
          1,
          1,
          1,
          1,
          1,
          1,
          1,
          1,
          1,
          1,
          1,
          1,
          1,
          1,
          1,
          1,
          1,
          1,
          1,
          1,
          1,
          1,
          1,
          1,
          1,
          1,
          1,
          1,
          1,
          1,
          1,
          1,
          1,
          1,
          1,
          1,
          1,
          1,
          1,
          1,
          1,
          1,
          1,
          1,
          1,
          1,
          1,
          1,
          1,
          1,
          1,
          1,
          1,
          1,
          1,
          1,
          1,
          1,
          1,
          1,
          1,
          1,
          1,
          1,
          1,
          1,
          1,
          1,
          1
         ],
         "xaxis": "x",
         "yaxis": "y"
        }
       ],
       "layout": {
        "barmode": "group",
        "legend": {
         "title": {
          "text": "Labels"
         },
         "tracegroupgap": 0
        },
        "template": {
         "data": {
          "bar": [
           {
            "error_x": {
             "color": "#2a3f5f"
            },
            "error_y": {
             "color": "#2a3f5f"
            },
            "marker": {
             "line": {
              "color": "#E5ECF6",
              "width": 0.5
             }
            },
            "type": "bar"
           }
          ],
          "barpolar": [
           {
            "marker": {
             "line": {
              "color": "#E5ECF6",
              "width": 0.5
             }
            },
            "type": "barpolar"
           }
          ],
          "carpet": [
           {
            "aaxis": {
             "endlinecolor": "#2a3f5f",
             "gridcolor": "white",
             "linecolor": "white",
             "minorgridcolor": "white",
             "startlinecolor": "#2a3f5f"
            },
            "baxis": {
             "endlinecolor": "#2a3f5f",
             "gridcolor": "white",
             "linecolor": "white",
             "minorgridcolor": "white",
             "startlinecolor": "#2a3f5f"
            },
            "type": "carpet"
           }
          ],
          "choropleth": [
           {
            "colorbar": {
             "outlinewidth": 0,
             "ticks": ""
            },
            "type": "choropleth"
           }
          ],
          "contour": [
           {
            "colorbar": {
             "outlinewidth": 0,
             "ticks": ""
            },
            "colorscale": [
             [
              0,
              "#0d0887"
             ],
             [
              0.1111111111111111,
              "#46039f"
             ],
             [
              0.2222222222222222,
              "#7201a8"
             ],
             [
              0.3333333333333333,
              "#9c179e"
             ],
             [
              0.4444444444444444,
              "#bd3786"
             ],
             [
              0.5555555555555556,
              "#d8576b"
             ],
             [
              0.6666666666666666,
              "#ed7953"
             ],
             [
              0.7777777777777778,
              "#fb9f3a"
             ],
             [
              0.8888888888888888,
              "#fdca26"
             ],
             [
              1,
              "#f0f921"
             ]
            ],
            "type": "contour"
           }
          ],
          "contourcarpet": [
           {
            "colorbar": {
             "outlinewidth": 0,
             "ticks": ""
            },
            "type": "contourcarpet"
           }
          ],
          "heatmap": [
           {
            "colorbar": {
             "outlinewidth": 0,
             "ticks": ""
            },
            "colorscale": [
             [
              0,
              "#0d0887"
             ],
             [
              0.1111111111111111,
              "#46039f"
             ],
             [
              0.2222222222222222,
              "#7201a8"
             ],
             [
              0.3333333333333333,
              "#9c179e"
             ],
             [
              0.4444444444444444,
              "#bd3786"
             ],
             [
              0.5555555555555556,
              "#d8576b"
             ],
             [
              0.6666666666666666,
              "#ed7953"
             ],
             [
              0.7777777777777778,
              "#fb9f3a"
             ],
             [
              0.8888888888888888,
              "#fdca26"
             ],
             [
              1,
              "#f0f921"
             ]
            ],
            "type": "heatmap"
           }
          ],
          "heatmapgl": [
           {
            "colorbar": {
             "outlinewidth": 0,
             "ticks": ""
            },
            "colorscale": [
             [
              0,
              "#0d0887"
             ],
             [
              0.1111111111111111,
              "#46039f"
             ],
             [
              0.2222222222222222,
              "#7201a8"
             ],
             [
              0.3333333333333333,
              "#9c179e"
             ],
             [
              0.4444444444444444,
              "#bd3786"
             ],
             [
              0.5555555555555556,
              "#d8576b"
             ],
             [
              0.6666666666666666,
              "#ed7953"
             ],
             [
              0.7777777777777778,
              "#fb9f3a"
             ],
             [
              0.8888888888888888,
              "#fdca26"
             ],
             [
              1,
              "#f0f921"
             ]
            ],
            "type": "heatmapgl"
           }
          ],
          "histogram": [
           {
            "marker": {
             "colorbar": {
              "outlinewidth": 0,
              "ticks": ""
             }
            },
            "type": "histogram"
           }
          ],
          "histogram2d": [
           {
            "colorbar": {
             "outlinewidth": 0,
             "ticks": ""
            },
            "colorscale": [
             [
              0,
              "#0d0887"
             ],
             [
              0.1111111111111111,
              "#46039f"
             ],
             [
              0.2222222222222222,
              "#7201a8"
             ],
             [
              0.3333333333333333,
              "#9c179e"
             ],
             [
              0.4444444444444444,
              "#bd3786"
             ],
             [
              0.5555555555555556,
              "#d8576b"
             ],
             [
              0.6666666666666666,
              "#ed7953"
             ],
             [
              0.7777777777777778,
              "#fb9f3a"
             ],
             [
              0.8888888888888888,
              "#fdca26"
             ],
             [
              1,
              "#f0f921"
             ]
            ],
            "type": "histogram2d"
           }
          ],
          "histogram2dcontour": [
           {
            "colorbar": {
             "outlinewidth": 0,
             "ticks": ""
            },
            "colorscale": [
             [
              0,
              "#0d0887"
             ],
             [
              0.1111111111111111,
              "#46039f"
             ],
             [
              0.2222222222222222,
              "#7201a8"
             ],
             [
              0.3333333333333333,
              "#9c179e"
             ],
             [
              0.4444444444444444,
              "#bd3786"
             ],
             [
              0.5555555555555556,
              "#d8576b"
             ],
             [
              0.6666666666666666,
              "#ed7953"
             ],
             [
              0.7777777777777778,
              "#fb9f3a"
             ],
             [
              0.8888888888888888,
              "#fdca26"
             ],
             [
              1,
              "#f0f921"
             ]
            ],
            "type": "histogram2dcontour"
           }
          ],
          "mesh3d": [
           {
            "colorbar": {
             "outlinewidth": 0,
             "ticks": ""
            },
            "type": "mesh3d"
           }
          ],
          "parcoords": [
           {
            "line": {
             "colorbar": {
              "outlinewidth": 0,
              "ticks": ""
             }
            },
            "type": "parcoords"
           }
          ],
          "pie": [
           {
            "automargin": true,
            "type": "pie"
           }
          ],
          "scatter": [
           {
            "marker": {
             "colorbar": {
              "outlinewidth": 0,
              "ticks": ""
             }
            },
            "type": "scatter"
           }
          ],
          "scatter3d": [
           {
            "line": {
             "colorbar": {
              "outlinewidth": 0,
              "ticks": ""
             }
            },
            "marker": {
             "colorbar": {
              "outlinewidth": 0,
              "ticks": ""
             }
            },
            "type": "scatter3d"
           }
          ],
          "scattercarpet": [
           {
            "marker": {
             "colorbar": {
              "outlinewidth": 0,
              "ticks": ""
             }
            },
            "type": "scattercarpet"
           }
          ],
          "scattergeo": [
           {
            "marker": {
             "colorbar": {
              "outlinewidth": 0,
              "ticks": ""
             }
            },
            "type": "scattergeo"
           }
          ],
          "scattergl": [
           {
            "marker": {
             "colorbar": {
              "outlinewidth": 0,
              "ticks": ""
             }
            },
            "type": "scattergl"
           }
          ],
          "scattermapbox": [
           {
            "marker": {
             "colorbar": {
              "outlinewidth": 0,
              "ticks": ""
             }
            },
            "type": "scattermapbox"
           }
          ],
          "scatterpolar": [
           {
            "marker": {
             "colorbar": {
              "outlinewidth": 0,
              "ticks": ""
             }
            },
            "type": "scatterpolar"
           }
          ],
          "scatterpolargl": [
           {
            "marker": {
             "colorbar": {
              "outlinewidth": 0,
              "ticks": ""
             }
            },
            "type": "scatterpolargl"
           }
          ],
          "scatterternary": [
           {
            "marker": {
             "colorbar": {
              "outlinewidth": 0,
              "ticks": ""
             }
            },
            "type": "scatterternary"
           }
          ],
          "surface": [
           {
            "colorbar": {
             "outlinewidth": 0,
             "ticks": ""
            },
            "colorscale": [
             [
              0,
              "#0d0887"
             ],
             [
              0.1111111111111111,
              "#46039f"
             ],
             [
              0.2222222222222222,
              "#7201a8"
             ],
             [
              0.3333333333333333,
              "#9c179e"
             ],
             [
              0.4444444444444444,
              "#bd3786"
             ],
             [
              0.5555555555555556,
              "#d8576b"
             ],
             [
              0.6666666666666666,
              "#ed7953"
             ],
             [
              0.7777777777777778,
              "#fb9f3a"
             ],
             [
              0.8888888888888888,
              "#fdca26"
             ],
             [
              1,
              "#f0f921"
             ]
            ],
            "type": "surface"
           }
          ],
          "table": [
           {
            "cells": {
             "fill": {
              "color": "#EBF0F8"
             },
             "line": {
              "color": "white"
             }
            },
            "header": {
             "fill": {
              "color": "#C8D4E3"
             },
             "line": {
              "color": "white"
             }
            },
            "type": "table"
           }
          ]
         },
         "layout": {
          "annotationdefaults": {
           "arrowcolor": "#2a3f5f",
           "arrowhead": 0,
           "arrowwidth": 1
          },
          "autotypenumbers": "strict",
          "coloraxis": {
           "colorbar": {
            "outlinewidth": 0,
            "ticks": ""
           }
          },
          "colorscale": {
           "diverging": [
            [
             0,
             "#8e0152"
            ],
            [
             0.1,
             "#c51b7d"
            ],
            [
             0.2,
             "#de77ae"
            ],
            [
             0.3,
             "#f1b6da"
            ],
            [
             0.4,
             "#fde0ef"
            ],
            [
             0.5,
             "#f7f7f7"
            ],
            [
             0.6,
             "#e6f5d0"
            ],
            [
             0.7,
             "#b8e186"
            ],
            [
             0.8,
             "#7fbc41"
            ],
            [
             0.9,
             "#4d9221"
            ],
            [
             1,
             "#276419"
            ]
           ],
           "sequential": [
            [
             0,
             "#0d0887"
            ],
            [
             0.1111111111111111,
             "#46039f"
            ],
            [
             0.2222222222222222,
             "#7201a8"
            ],
            [
             0.3333333333333333,
             "#9c179e"
            ],
            [
             0.4444444444444444,
             "#bd3786"
            ],
            [
             0.5555555555555556,
             "#d8576b"
            ],
            [
             0.6666666666666666,
             "#ed7953"
            ],
            [
             0.7777777777777778,
             "#fb9f3a"
            ],
            [
             0.8888888888888888,
             "#fdca26"
            ],
            [
             1,
             "#f0f921"
            ]
           ],
           "sequentialminus": [
            [
             0,
             "#0d0887"
            ],
            [
             0.1111111111111111,
             "#46039f"
            ],
            [
             0.2222222222222222,
             "#7201a8"
            ],
            [
             0.3333333333333333,
             "#9c179e"
            ],
            [
             0.4444444444444444,
             "#bd3786"
            ],
            [
             0.5555555555555556,
             "#d8576b"
            ],
            [
             0.6666666666666666,
             "#ed7953"
            ],
            [
             0.7777777777777778,
             "#fb9f3a"
            ],
            [
             0.8888888888888888,
             "#fdca26"
            ],
            [
             1,
             "#f0f921"
            ]
           ]
          },
          "colorway": [
           "#636efa",
           "#EF553B",
           "#00cc96",
           "#ab63fa",
           "#FFA15A",
           "#19d3f3",
           "#FF6692",
           "#B6E880",
           "#FF97FF",
           "#FECB52"
          ],
          "font": {
           "color": "#2a3f5f"
          },
          "geo": {
           "bgcolor": "white",
           "lakecolor": "white",
           "landcolor": "#E5ECF6",
           "showlakes": true,
           "showland": true,
           "subunitcolor": "white"
          },
          "hoverlabel": {
           "align": "left"
          },
          "hovermode": "closest",
          "mapbox": {
           "style": "light"
          },
          "paper_bgcolor": "white",
          "plot_bgcolor": "#E5ECF6",
          "polar": {
           "angularaxis": {
            "gridcolor": "white",
            "linecolor": "white",
            "ticks": ""
           },
           "bgcolor": "#E5ECF6",
           "radialaxis": {
            "gridcolor": "white",
            "linecolor": "white",
            "ticks": ""
           }
          },
          "scene": {
           "xaxis": {
            "backgroundcolor": "#E5ECF6",
            "gridcolor": "white",
            "gridwidth": 2,
            "linecolor": "white",
            "showbackground": true,
            "ticks": "",
            "zerolinecolor": "white"
           },
           "yaxis": {
            "backgroundcolor": "#E5ECF6",
            "gridcolor": "white",
            "gridwidth": 2,
            "linecolor": "white",
            "showbackground": true,
            "ticks": "",
            "zerolinecolor": "white"
           },
           "zaxis": {
            "backgroundcolor": "#E5ECF6",
            "gridcolor": "white",
            "gridwidth": 2,
            "linecolor": "white",
            "showbackground": true,
            "ticks": "",
            "zerolinecolor": "white"
           }
          },
          "shapedefaults": {
           "line": {
            "color": "#2a3f5f"
           }
          },
          "ternary": {
           "aaxis": {
            "gridcolor": "white",
            "linecolor": "white",
            "ticks": ""
           },
           "baxis": {
            "gridcolor": "white",
            "linecolor": "white",
            "ticks": ""
           },
           "bgcolor": "#E5ECF6",
           "caxis": {
            "gridcolor": "white",
            "linecolor": "white",
            "ticks": ""
           }
          },
          "title": {
           "x": 0.05
          },
          "xaxis": {
           "automargin": true,
           "gridcolor": "white",
           "linecolor": "white",
           "ticks": "",
           "title": {
            "standoff": 15
           },
           "zerolinecolor": "white",
           "zerolinewidth": 2
          },
          "yaxis": {
           "automargin": true,
           "gridcolor": "white",
           "linecolor": "white",
           "ticks": "",
           "title": {
            "standoff": 15
           },
           "zerolinecolor": "white",
           "zerolinewidth": 2
          }
         }
        },
        "title": {
         "text": "Class repartition betwenn neuron type"
        },
        "xaxis": {
         "anchor": "y",
         "categoryarray": [
          0,
          4,
          2,
          3,
          1
         ],
         "categoryorder": "array",
         "domain": [
          0,
          1
         ],
         "title": {
          "text": "Labels"
         }
        },
        "yaxis": {
         "anchor": "x",
         "domain": [
          0,
          1
         ],
         "title": {
          "text": "count"
         }
        }
       }
      }
     },
     "metadata": {},
     "output_type": "display_data"
    },
    {
     "name": "stdout",
     "output_type": "stream",
     "text": [
      "Unbalanced data\n"
     ]
    }
   ],
   "source": [
    "fig = px.histogram(data, x = 'Labels', color = 'Labels', barmode = 'group', title = 'Class repartition betwenn neuron type')\n",
    "fig.show()\n",
    "print(f'Unbalanced data')"
   ]
  },
  {
   "cell_type": "code",
   "execution_count": 19,
   "metadata": {},
   "outputs": [
    {
     "name": "stdout",
     "output_type": "stream",
     "text": [
      "[1.828      1.21866667 0.76166667 3.97391304 0.48359788]\n"
     ]
    }
   ],
   "source": [
    "classes_weights = compute_class_weight('balanced', classes = np.unique(data['Labels'].values), y = data['Labels'].values)\n",
    "print(classes_weights)"
   ]
  },
  {
   "cell_type": "markdown",
   "metadata": {},
   "source": [
    "# Machine Learning Part"
   ]
  },
  {
   "cell_type": "markdown",
   "metadata": {},
   "source": [
    "## Data Splitting"
   ]
  },
  {
   "cell_type": "code",
   "execution_count": 27,
   "metadata": {},
   "outputs": [
    {
     "name": "stdout",
     "output_type": "stream",
     "text": [
      "The half of the number of threads available is : 8\n"
     ]
    }
   ],
   "source": [
    "split_rate = 0.2\n",
    "seed = 42\n",
    "n_cores = int(os.cpu_count()/2)\n",
    "print(f'The half of the number of threads available is : {n_cores}')"
   ]
  },
  {
   "cell_type": "code",
   "execution_count": 21,
   "metadata": {},
   "outputs": [
    {
     "name": "stdout",
     "output_type": "stream",
     "text": [
      "Shape of features : (457, 258)\n",
      "Shape of labels : (457,)\n"
     ]
    }
   ],
   "source": [
    "features = data.drop('Labels', axis=1)\n",
    "labels = data['Labels']\n",
    "\n",
    "print(f'Shape of features : {features.shape}')\n",
    "print(f'Shape of labels : {labels.shape}')"
   ]
  },
  {
   "cell_type": "code",
   "execution_count": 23,
   "metadata": {},
   "outputs": [
    {
     "name": "stdout",
     "output_type": "stream",
     "text": [
      "Shape of X_train : (365, 258)\n",
      "Shape of y_train : (365,)\n",
      "Shape of X_test : (92, 258)\n",
      "Shape of y_test : (92,)\n"
     ]
    }
   ],
   "source": [
    "X_train, X_test, y_train, y_test = train_test_split(features, labels, test_size = split_rate, random_state = seed, stratify = labels)\n",
    "\n",
    "\n",
    "print(f'Shape of X_train : {X_train.shape}')\n",
    "print(f'Shape of y_train : {y_train.shape}')\n",
    "\n",
    "print(f'Shape of X_test : {X_test.shape}')\n",
    "print(f'Shape of y_test : {y_test.shape}')"
   ]
  },
  {
   "cell_type": "markdown",
   "metadata": {},
   "source": [
    "## Scaling Data"
   ]
  },
  {
   "cell_type": "code",
   "execution_count": 25,
   "metadata": {},
   "outputs": [],
   "source": [
    "scaler = StandardScaler() # Substract mean and divide by standard deviation\n",
    "\n",
    "df_scaled = scaler.fit_transform(data.drop('Labels', axis  = 1))\n",
    "\n",
    "X_train = scaler.fit_transform(X_train)\n",
    "X_test = scaler.fit_transform(X_test)\n"
   ]
  },
  {
   "cell_type": "markdown",
   "metadata": {},
   "source": [
    "## Logistic Regression"
   ]
  },
  {
   "cell_type": "code",
   "execution_count": 28,
   "metadata": {},
   "outputs": [
    {
     "name": "stdout",
     "output_type": "stream",
     "text": [
      "Fitting 5 folds for each of 288 candidates, totalling 1440 fits\n"
     ]
    },
    {
     "name": "stderr",
     "output_type": "stream",
     "text": [
      "One or more of the test scores are non-finite: [0.5369863         nan        nan 0.41369863 0.99178082 0.97534247\n",
      " 0.97534247 0.98630137 0.5369863         nan        nan 0.41369863\n",
      " 0.99178082 0.97534247 0.97534247 0.98630137 0.5369863         nan\n",
      "        nan 0.41369863 0.99178082 0.97534247 0.97534247 0.97534247\n",
      " 0.21369863        nan        nan 0.39726027 0.99178082 0.99178082\n",
      " 0.99178082 0.99178082 0.21369863        nan        nan 0.4\n",
      " 0.99178082 0.99178082 0.99178082 0.99178082 0.21369863        nan\n",
      "        nan 0.4        0.99178082 0.99178082 0.99178082 0.99178082\n",
      " 0.98082192        nan        nan 0.97808219 0.99178082 0.99178082\n",
      " 0.99178082 0.99178082 0.98082192        nan        nan 0.97808219\n",
      " 0.99178082 0.99178082 0.99178082 0.99178082 0.98082192        nan\n",
      "        nan 0.97260274 0.99178082 0.99178082 0.99178082 0.99178082\n",
      " 0.98082192        nan        nan 0.98630137 0.99178082 0.99178082\n",
      " 0.99178082 0.99452055 0.98082192        nan        nan 0.98630137\n",
      " 0.99178082 0.99178082 0.99178082 0.99452055 0.98082192        nan\n",
      "        nan 0.98630137 0.99178082 0.99178082 0.99178082 0.99452055\n",
      " 0.99452055        nan        nan 0.99452055 0.99452055 0.99452055\n",
      " 0.99452055 0.99178082 0.99452055        nan        nan 0.99726027\n",
      " 0.99452055 0.99452055 0.99452055 0.99178082 0.99452055        nan\n",
      "        nan 1.         0.99452055 0.99452055 0.99452055 0.99452055\n",
      " 0.99452055        nan        nan 0.99452055 0.99452055 0.99726027\n",
      " 0.99726027 0.99452055 0.99452055        nan        nan 1.\n",
      " 0.99452055 0.99726027 0.99726027 0.99452055 0.99452055        nan\n",
      "        nan 1.         0.99452055 0.99726027 0.99726027 0.99452055\n",
      " 0.99452055        nan        nan 0.99178082 0.99452055 0.99452055\n",
      " 0.99452055 0.99178082 0.99452055        nan        nan 0.99452055\n",
      " 0.99452055 0.99452055 0.99452055 0.99178082 0.99452055        nan\n",
      "        nan 0.99726027 0.99452055 0.99452055 0.99452055 0.99452055\n",
      " 0.99452055        nan        nan 0.99452055 0.99452055 0.99726027\n",
      " 0.99726027 0.99452055 0.99452055        nan        nan 0.99452055\n",
      " 0.99452055 0.99726027 0.99726027 0.99452055 0.99452055        nan\n",
      "        nan 1.         0.99452055 0.99726027 0.99726027 0.99452055\n",
      " 0.99452055        nan        nan 0.99178082 0.99452055 0.99726027\n",
      " 0.99726027 0.99178082 0.99452055        nan        nan 0.99452055\n",
      " 0.99452055 0.99726027 0.99726027 0.99178082 0.99452055        nan\n",
      "        nan 0.99452055 0.99452055 0.99726027 0.99726027 0.99452055\n",
      " 0.99726027        nan        nan 0.99452055 0.99452055 0.99726027\n",
      " 0.99726027 0.99452055 0.99726027        nan        nan 0.99452055\n",
      " 0.99452055 0.99726027 0.99726027 0.99452055 0.99726027        nan\n",
      "        nan 0.99452055 0.99452055 0.99726027 0.99726027 0.99452055\n",
      " 0.99726027        nan        nan 0.99178082 0.99452055 0.99726027\n",
      " 0.99726027 0.99178082 0.99726027        nan        nan 0.99178082\n",
      " 0.99452055 0.99726027 0.99726027 0.99178082 0.99726027        nan\n",
      "        nan 0.99452055 0.99452055 0.99726027 0.99726027 0.99452055\n",
      " 0.99726027        nan        nan 0.99452055 0.99452055 0.99726027\n",
      " 0.99726027 0.99452055 0.99726027        nan        nan 0.99452055\n",
      " 0.99452055 0.99726027 0.99726027 0.99452055 0.99726027        nan\n",
      "        nan 0.99452055 0.99452055 0.99726027 0.99726027 0.99452055]\n",
      "The max_iter was reached which means the coef_ did not converge\n"
     ]
    }
   ],
   "source": [
    "LR_classifier = LogisticRegression(random_state = seed)\n",
    "scoring = ['accuracy','balanced_accuracy', 'f1','roc_auc']\n",
    "\n",
    "LR_parameters = [{ 'penalty' : ['l1','l2'],\n",
    "                    'class_weight' : [None, 'balanced'],\n",
    "                    'C' : [0.01,0.1,1.0,2.0,5.0,10.0],\n",
    "                    'solver' : ['liblinear','newton-cg','lbfgs','saga'],\n",
    "                    'max_iter' : [100,200,500]}]\n",
    "\n",
    "LR_grid_search = GridSearchCV(estimator = LR_classifier, param_grid = LR_parameters, scoring = 'accuracy', cv = 5, n_jobs = n_cores, verbose = 4)\n",
    "LR_grid_search = LR_grid_search.fit(X_train, y_train)"
   ]
  },
  {
   "cell_type": "code",
   "execution_count": 29,
   "metadata": {},
   "outputs": [
    {
     "name": "stdout",
     "output_type": "stream",
     "text": [
      "Best logistic regressor is : LogisticRegression(max_iter=500, penalty='l1', random_state=42, solver='saga'), \n",
      "  with a score of : 1.0\n"
     ]
    }
   ],
   "source": [
    "print(f'Best logistic regressor is : {LR_grid_search.best_estimator_}, \\n  with a score of : {LR_grid_search.best_score_}')\n"
   ]
  },
  {
   "cell_type": "code",
   "execution_count": 30,
   "metadata": {},
   "outputs": [
    {
     "name": "stdout",
     "output_type": "stream",
     "text": [
      "[[10  0  0  0  0]\n",
      " [ 0 15  0  0  0]\n",
      " [ 0  0 24  0  0]\n",
      " [ 0  0  0  5  0]\n",
      " [ 0  0  0  0 38]]\n",
      "              precision    recall  f1-score   support\n",
      "\n",
      "           0       1.00      1.00      1.00        10\n",
      "           1       1.00      1.00      1.00        15\n",
      "           2       1.00      1.00      1.00        24\n",
      "           3       1.00      1.00      1.00         5\n",
      "           4       1.00      1.00      1.00        38\n",
      "\n",
      "    accuracy                           1.00        92\n",
      "   macro avg       1.00      1.00      1.00        92\n",
      "weighted avg       1.00      1.00      1.00        92\n",
      "\n",
      "Accuracy: 100.0\n"
     ]
    }
   ],
   "source": [
    "y_pred_LR =  LR_grid_search.best_estimator_.predict(X_test)\n",
    "\n",
    "cm = confusion_matrix(y_test, y_pred_LR) \n",
    "print (cm)\n",
    "\n",
    "print(classification_report(y_test,y_pred_LR))\n",
    "print(\"Accuracy:\",accuracy_score(y_test, y_pred_LR)*100)"
   ]
  },
  {
   "cell_type": "markdown",
   "metadata": {},
   "source": [
    "## SVM"
   ]
  },
  {
   "cell_type": "code",
   "execution_count": 31,
   "metadata": {},
   "outputs": [
    {
     "name": "stdout",
     "output_type": "stream",
     "text": [
      "Fitting 5 folds for each of 96 candidates, totalling 480 fits\n"
     ]
    }
   ],
   "source": [
    "SVM_classifier = SVC(random_state = seed)\n",
    "scoring = ['accuracy','balanced_accuracy', 'f1','roc_auc']\n",
    "\n",
    "SVM_parameters = [{ 'kernel' : ['linear','poly','rbf','sigmoid'],\n",
    "                    'class_weight' : [None, 'balanced'],\n",
    "                    'C' : [0.01,0.1,1.0,2.0,5.0,10.0],\n",
    "                    'decision_function_shape' : ['ovo','ovr']}]\n",
    "\n",
    "SVM_grid_search = GridSearchCV(estimator = SVM_classifier, param_grid = SVM_parameters, scoring = 'accuracy', cv = 5, n_jobs = n_cores, verbose = 4)\n",
    "SVM_grid_search = SVM_grid_search.fit(X_train, y_train)"
   ]
  },
  {
   "cell_type": "code",
   "execution_count": 32,
   "metadata": {},
   "outputs": [
    {
     "name": "stdout",
     "output_type": "stream",
     "text": [
      "Best SVM is : SVC(C=0.01, class_weight='balanced', decision_function_shape='ovo',\n",
      "    kernel='linear', random_state=42), \n",
      "  with a score of : 0.9945205479452055\n"
     ]
    }
   ],
   "source": [
    "print(f'Best SVM is : {SVM_grid_search.best_estimator_}, \\n  with a score of : {SVM_grid_search.best_score_}')\n"
   ]
  },
  {
   "cell_type": "code",
   "execution_count": 33,
   "metadata": {},
   "outputs": [
    {
     "name": "stdout",
     "output_type": "stream",
     "text": [
      "[[10  0  0  0  0]\n",
      " [ 0 15  0  0  0]\n",
      " [ 0  0 24  0  0]\n",
      " [ 0  0  0  5  0]\n",
      " [ 0  0  0  0 38]]\n",
      "              precision    recall  f1-score   support\n",
      "\n",
      "           0       1.00      1.00      1.00        10\n",
      "           1       1.00      1.00      1.00        15\n",
      "           2       1.00      1.00      1.00        24\n",
      "           3       1.00      1.00      1.00         5\n",
      "           4       1.00      1.00      1.00        38\n",
      "\n",
      "    accuracy                           1.00        92\n",
      "   macro avg       1.00      1.00      1.00        92\n",
      "weighted avg       1.00      1.00      1.00        92\n",
      "\n",
      "Accuracy: 100.0\n"
     ]
    }
   ],
   "source": [
    "y_pred_SVM =  SVM_grid_search.best_estimator_.predict(X_test)\n",
    "\n",
    "cm = confusion_matrix(y_test, y_pred_SVM) \n",
    "print (cm)\n",
    "\n",
    "print(classification_report(y_test,y_pred_SVM))\n",
    "print(\"Accuracy:\",accuracy_score(y_test, y_pred_SVM)*100)"
   ]
  },
  {
   "cell_type": "markdown",
   "metadata": {},
   "source": [
    "## Gaussian Naive Bayes"
   ]
  },
  {
   "cell_type": "code",
   "execution_count": 34,
   "metadata": {},
   "outputs": [],
   "source": [
    "GNB_classifier = GaussianNB()\n",
    "GNB_grid_search = GNB_classifier.fit(X_train, y_train)"
   ]
  },
  {
   "cell_type": "code",
   "execution_count": 35,
   "metadata": {},
   "outputs": [
    {
     "name": "stdout",
     "output_type": "stream",
     "text": [
      "[[10  0  0  0  0]\n",
      " [14  1  0  0  0]\n",
      " [24  0  0  0  0]\n",
      " [ 0  0  0  0  5]\n",
      " [38  0  0  0  0]]\n",
      "              precision    recall  f1-score   support\n",
      "\n",
      "           0       0.12      1.00      0.21        10\n",
      "           1       1.00      0.07      0.12        15\n",
      "           2       0.00      0.00      0.00        24\n",
      "           3       0.00      0.00      0.00         5\n",
      "           4       0.00      0.00      0.00        38\n",
      "\n",
      "    accuracy                           0.12        92\n",
      "   macro avg       0.22      0.21      0.07        92\n",
      "weighted avg       0.18      0.12      0.04        92\n",
      "\n",
      "Accuracy: 11.956521739130435\n"
     ]
    },
    {
     "name": "stderr",
     "output_type": "stream",
     "text": [
      "Precision and F-score are ill-defined and being set to 0.0 in labels with no predicted samples. Use `zero_division` parameter to control this behavior.\n",
      "Precision and F-score are ill-defined and being set to 0.0 in labels with no predicted samples. Use `zero_division` parameter to control this behavior.\n",
      "Precision and F-score are ill-defined and being set to 0.0 in labels with no predicted samples. Use `zero_division` parameter to control this behavior.\n"
     ]
    }
   ],
   "source": [
    "y_pred_GNB =  GNB_classifier.predict(X_test)\n",
    "\n",
    "cm = confusion_matrix(y_test, y_pred_GNB) \n",
    "print (cm)\n",
    "\n",
    "print(classification_report(y_test,y_pred_GNB))\n",
    "print(\"Accuracy:\",accuracy_score(y_test, y_pred_GNB)*100)"
   ]
  },
  {
   "cell_type": "markdown",
   "metadata": {},
   "source": [
    "## Decision Tree"
   ]
  },
  {
   "cell_type": "code",
   "execution_count": 36,
   "metadata": {},
   "outputs": [
    {
     "name": "stdout",
     "output_type": "stream",
     "text": [
      "Fitting 5 folds for each of 480 candidates, totalling 2400 fits\n",
      "DT trained\n"
     ]
    }
   ],
   "source": [
    "DT_classifier = DecisionTreeClassifier(random_state = seed)\n",
    "scoring = ['accuracy','balanced_accuracy', 'f1','roc_auc']\n",
    "\n",
    "DT_parameters = [{ 'criterion' : ['gini','entropy'],\n",
    "                    'class_weight' : [None, 'balanced'],\n",
    "                    'splitter' : ['best','random'],\n",
    "                    'max_depth' : [10,20,50,100,1000],\n",
    "                    'min_samples_split' : [10,15,20,50],\n",
    "                    'max_features' : ['auto', 'sqrt', 'log2']\n",
    "                    }]\n",
    "\n",
    "DT_grid_search = GridSearchCV(estimator = DT_classifier, param_grid = DT_parameters, scoring = 'accuracy', cv = 5, n_jobs = n_cores, verbose = 4)\n",
    "DT_grid_search = DT_grid_search.fit(X_train, y_train)\n",
    "print('DT trained')\n"
   ]
  },
  {
   "cell_type": "code",
   "execution_count": 37,
   "metadata": {},
   "outputs": [
    {
     "name": "stdout",
     "output_type": "stream",
     "text": [
      "Best Decison Tree is : DecisionTreeClassifier(class_weight='balanced', criterion='entropy',\n",
      "                       max_depth=10, max_features='log2', min_samples_split=15,\n",
      "                       random_state=42), \n",
      "  with a score of : 0.9342465753424658\n",
      "\n",
      "\n",
      "[[10  0  0  0  0]\n",
      " [ 0  9  2  1  3]\n",
      " [ 0  1 23  0  0]\n",
      " [ 0  0  0  5  0]\n",
      " [ 0  1  0  1 36]]\n",
      "              precision    recall  f1-score   support\n",
      "\n",
      "           0       1.00      1.00      1.00        10\n",
      "           1       0.82      0.60      0.69        15\n",
      "           2       0.92      0.96      0.94        24\n",
      "           3       0.71      1.00      0.83         5\n",
      "           4       0.92      0.95      0.94        38\n",
      "\n",
      "    accuracy                           0.90        92\n",
      "   macro avg       0.88      0.90      0.88        92\n",
      "weighted avg       0.90      0.90      0.90        92\n",
      "\n",
      "Accuracy: 90.21739130434783\n"
     ]
    }
   ],
   "source": [
    "print(f'Best Decison Tree is : {DT_grid_search.best_estimator_}, \\n  with a score of : {DT_grid_search.best_score_}')\n",
    "print('\\n')\n",
    "\n",
    "y_pred_DT =  DT_grid_search.best_estimator_.predict(X_test)\n",
    "\n",
    "cm = confusion_matrix(y_test, y_pred_DT) \n",
    "print (cm)\n",
    "\n",
    "print(classification_report(y_test,y_pred_DT))\n",
    "print(\"Accuracy:\",accuracy_score(y_test, y_pred_DT)*100)"
   ]
  },
  {
   "cell_type": "markdown",
   "metadata": {},
   "source": [
    "## Random Forest"
   ]
  },
  {
   "cell_type": "code",
   "execution_count": 38,
   "metadata": {},
   "outputs": [
    {
     "name": "stdout",
     "output_type": "stream",
     "text": [
      "Fitting 5 folds for each of 1440 candidates, totalling 7200 fits\n",
      "RF trained\n"
     ]
    }
   ],
   "source": [
    "RF_classifier = RandomForestClassifier(random_state = seed)\n",
    "scoring = ['accuracy','balanced_accuracy', 'f1','roc_auc']\n",
    "\n",
    "RF_parameters = [{ 'n_estimators' : [10,20,50,100,250,500],\n",
    "                    'class_weight' : [None, 'balanced'],\n",
    "                    'criterion' : ['gini', 'entropy'],\n",
    "                    'max_depth' : [10,20,50,100,1000],\n",
    "                    'min_samples_split' : [10,15,20,50],\n",
    "                    'max_features' : ['auto', 'sqrt', 'log2']\n",
    "                    }]\n",
    "\n",
    "RF_grid_search = GridSearchCV(estimator = RF_classifier, param_grid = RF_parameters, scoring = 'accuracy', cv = 5, n_jobs = n_cores, verbose = 4)\n",
    "RF_grid_search = RF_grid_search.fit(X_train, y_train)\n",
    "print('RF trained')"
   ]
  },
  {
   "cell_type": "code",
   "execution_count": 39,
   "metadata": {},
   "outputs": [
    {
     "name": "stdout",
     "output_type": "stream",
     "text": [
      "Best Random Forest is : RandomForestClassifier(class_weight='balanced', criterion='entropy',\n",
      "                       max_depth=10, min_samples_split=10, n_estimators=250,\n",
      "                       random_state=42), \n",
      "  with a score of : 0.9972602739726029\n",
      "\n",
      "\n",
      "[[10  0  0  0  0]\n",
      " [ 0 15  0  0  0]\n",
      " [ 0  0 24  0  0]\n",
      " [ 0  0  0  5  0]\n",
      " [ 0  0  0  0 38]]\n",
      "              precision    recall  f1-score   support\n",
      "\n",
      "           0       1.00      1.00      1.00        10\n",
      "           1       1.00      1.00      1.00        15\n",
      "           2       1.00      1.00      1.00        24\n",
      "           3       1.00      1.00      1.00         5\n",
      "           4       1.00      1.00      1.00        38\n",
      "\n",
      "    accuracy                           1.00        92\n",
      "   macro avg       1.00      1.00      1.00        92\n",
      "weighted avg       1.00      1.00      1.00        92\n",
      "\n",
      "Accuracy: 100.0\n"
     ]
    }
   ],
   "source": [
    "print(f'Best Random Forest is : {RF_grid_search.best_estimator_}, \\n  with a score of : {RF_grid_search.best_score_}')\n",
    "print('\\n')\n",
    "\n",
    "y_pred_RF =  RF_grid_search.best_estimator_.predict(X_test)\n",
    "\n",
    "cm = confusion_matrix(y_test, y_pred_RF) \n",
    "print (cm)\n",
    "\n",
    "print(classification_report(y_test,y_pred_RF))\n",
    "print(\"Accuracy:\",accuracy_score(y_test, y_pred_RF)*100)"
   ]
  },
  {
   "cell_type": "markdown",
   "metadata": {},
   "source": [
    "## Bagging Classifier"
   ]
  },
  {
   "cell_type": "code",
   "execution_count": 40,
   "metadata": {},
   "outputs": [
    {
     "name": "stdout",
     "output_type": "stream",
     "text": [
      "Fitting 5 folds for each of 24 candidates, totalling 120 fits\n",
      "Bagging Classifier trained ! \n"
     ]
    }
   ],
   "source": [
    "\n",
    "BG_classifier = BaggingClassifier(random_state = seed)\n",
    "scoring = ['accuracy','balanced_accuracy', 'f1','roc_auc']\n",
    "\n",
    "BG_parameters = [{ 'n_estimators' : [10,20,50,100,250,500],\n",
    "                    'max_features' : [10,20,50,100]\n",
    "                    }]\n",
    "\n",
    "BG_grid_search = GridSearchCV(estimator = BG_classifier, param_grid = BG_parameters, scoring = 'accuracy', cv = 5, n_jobs = n_cores, verbose = 4)\n",
    "BG_grid_search = BG_grid_search.fit(X_train, y_train)\n",
    "print('Bagging Classifier trained ! ')"
   ]
  },
  {
   "cell_type": "code",
   "execution_count": 41,
   "metadata": {},
   "outputs": [
    {
     "name": "stdout",
     "output_type": "stream",
     "text": [
      "Best BAgging Classifier is : BaggingClassifier(max_features=50, n_estimators=50, random_state=42), \n",
      "  with a score of : 0.9972602739726029\n",
      "\n",
      "\n",
      "[[10  0  0  0  0]\n",
      " [ 0 14  0  0  1]\n",
      " [ 0  0 24  0  0]\n",
      " [ 0  0  0  5  0]\n",
      " [ 0  0  0  0 38]]\n",
      "              precision    recall  f1-score   support\n",
      "\n",
      "           0       1.00      1.00      1.00        10\n",
      "           1       1.00      0.93      0.97        15\n",
      "           2       1.00      1.00      1.00        24\n",
      "           3       1.00      1.00      1.00         5\n",
      "           4       0.97      1.00      0.99        38\n",
      "\n",
      "    accuracy                           0.99        92\n",
      "   macro avg       0.99      0.99      0.99        92\n",
      "weighted avg       0.99      0.99      0.99        92\n",
      "\n",
      "Accuracy: 98.91304347826086\n"
     ]
    }
   ],
   "source": [
    "print(f'Best BAgging Classifier is : {BG_grid_search.best_estimator_}, \\n  with a score of : {BG_grid_search.best_score_}')\n",
    "print('\\n')\n",
    "\n",
    "y_pred_BG =  BG_grid_search.best_estimator_.predict(X_test)\n",
    "\n",
    "cm = confusion_matrix(y_test, y_pred_BG) \n",
    "print (cm)\n",
    "\n",
    "print(classification_report(y_test,y_pred_BG))\n",
    "print(\"Accuracy:\",accuracy_score(y_test, y_pred_BG)*100)\n"
   ]
  },
  {
   "cell_type": "markdown",
   "metadata": {},
   "source": [
    "## KNN"
   ]
  },
  {
   "cell_type": "code",
   "execution_count": 42,
   "metadata": {},
   "outputs": [
    {
     "name": "stdout",
     "output_type": "stream",
     "text": [
      "Fitting 5 folds for each of 8 candidates, totalling 40 fits\n",
      "KNN trained ! \n"
     ]
    }
   ],
   "source": [
    "KNN_classifier = KNeighborsClassifier()\n",
    "scoring = ['accuracy','balanced_accuracy', 'f1','roc_auc']\n",
    "\n",
    "KNN_parameters = [{ 'n_neighbors' : [10,20,50,75],\n",
    "                     'weights' : ['uniform','distance'],\n",
    "                    'algorithm' : ['auto']\n",
    "                    }]\n",
    "\n",
    "KNN_grid_search = GridSearchCV(estimator = KNN_classifier, param_grid = KNN_parameters, scoring = 'accuracy', cv = 5, n_jobs = n_cores, verbose = 4)\n",
    "KNN_grid_search = KNN_grid_search.fit(X_train, y_train)\n",
    "print('KNN trained ! ')"
   ]
  },
  {
   "cell_type": "code",
   "execution_count": 43,
   "metadata": {},
   "outputs": [
    {
     "name": "stdout",
     "output_type": "stream",
     "text": [
      "Best KNN Classifier is : KNeighborsClassifier(n_neighbors=10), \n",
      "  with a score of : 0.9479452054794522\n",
      "\n",
      "\n",
      "[[ 9  0  0  0  1]\n",
      " [ 0 14  0  0  1]\n",
      " [ 0  0 24  0  0]\n",
      " [ 0  0  0  5  0]\n",
      " [ 0  0  0  0 38]]\n",
      "              precision    recall  f1-score   support\n",
      "\n",
      "           0       1.00      0.90      0.95        10\n",
      "           1       1.00      0.93      0.97        15\n",
      "           2       1.00      1.00      1.00        24\n",
      "           3       1.00      1.00      1.00         5\n",
      "           4       0.95      1.00      0.97        38\n",
      "\n",
      "    accuracy                           0.98        92\n",
      "   macro avg       0.99      0.97      0.98        92\n",
      "weighted avg       0.98      0.98      0.98        92\n",
      "\n",
      "Accuracy: 97.82608695652173\n"
     ]
    }
   ],
   "source": [
    "print(f'Best KNN Classifier is : {KNN_grid_search.best_estimator_}, \\n  with a score of : {KNN_grid_search.best_score_}')\n",
    "print('\\n')\n",
    "\n",
    "y_pred_KNN =  KNN_grid_search.best_estimator_.predict(X_test)\n",
    "\n",
    "cm = confusion_matrix(y_test, y_pred_KNN) \n",
    "print (cm)\n",
    "\n",
    "print(classification_report(y_test,y_pred_KNN))\n",
    "print(\"Accuracy:\",accuracy_score(y_test, y_pred_KNN)*100)"
   ]
  },
  {
   "cell_type": "markdown",
   "metadata": {},
   "source": [
    "## Ada Boost"
   ]
  },
  {
   "cell_type": "code",
   "execution_count": 44,
   "metadata": {},
   "outputs": [
    {
     "name": "stdout",
     "output_type": "stream",
     "text": [
      "Fitting 5 folds for each of 24 candidates, totalling 120 fits\n",
      "ADAB trained ! \n"
     ]
    }
   ],
   "source": [
    "ADAB_classifier = AdaBoostClassifier(random_state = seed)\n",
    "scoring = ['accuracy','balanced_accuracy', 'f1','roc_auc']\n",
    "\n",
    "ADAB_parameters = [{ 'n_estimators' : [10,20,50,75,100,250],\n",
    "                    'learning_rate' : [0.001,0.01,0.1,1.0]                    }]\n",
    "\n",
    "ADAB_grid_search = GridSearchCV(estimator = ADAB_classifier, param_grid = ADAB_parameters, scoring = 'accuracy', cv = 5, n_jobs = n_cores, verbose = 4)\n",
    "ADAB_grid_search = ADAB_grid_search.fit(X_train, y_train)\n",
    "print('ADAB trained ! ')"
   ]
  },
  {
   "cell_type": "code",
   "execution_count": 45,
   "metadata": {},
   "outputs": [
    {
     "name": "stdout",
     "output_type": "stream",
     "text": [
      "Best ADAB Classifier is : AdaBoostClassifier(learning_rate=0.1, n_estimators=250, random_state=42), \n",
      "  with a score of : 0.980821917808219\n",
      "\n",
      "\n",
      "[[ 9  1  0  0  0]\n",
      " [ 0 15  0  0  0]\n",
      " [ 0  0 24  0  0]\n",
      " [ 0  0  0  5  0]\n",
      " [ 0  1  0  0 37]]\n",
      "              precision    recall  f1-score   support\n",
      "\n",
      "           0       1.00      0.90      0.95        10\n",
      "           1       0.88      1.00      0.94        15\n",
      "           2       1.00      1.00      1.00        24\n",
      "           3       1.00      1.00      1.00         5\n",
      "           4       1.00      0.97      0.99        38\n",
      "\n",
      "    accuracy                           0.98        92\n",
      "   macro avg       0.98      0.97      0.97        92\n",
      "weighted avg       0.98      0.98      0.98        92\n",
      "\n",
      "Accuracy: 97.82608695652173\n"
     ]
    }
   ],
   "source": [
    "print(f'Best ADAB Classifier is : {ADAB_grid_search.best_estimator_}, \\n  with a score of : {ADAB_grid_search.best_score_}')\n",
    "print('\\n')\n",
    "\n",
    "y_pred_ADAB =  ADAB_grid_search.best_estimator_.predict(X_test)\n",
    "\n",
    "cm = confusion_matrix(y_test, y_pred_ADAB) \n",
    "print (cm)\n",
    "\n",
    "print(classification_report(y_test,y_pred_ADAB))\n",
    "print(\"Accuracy:\",accuracy_score(y_test, y_pred_ADAB)*100)"
   ]
  },
  {
   "cell_type": "markdown",
   "metadata": {},
   "source": [
    "## Gradient Boosting Classifier"
   ]
  },
  {
   "cell_type": "code",
   "execution_count": 46,
   "metadata": {},
   "outputs": [
    {
     "name": "stdout",
     "output_type": "stream",
     "text": [
      "Fitting 5 folds for each of 72 candidates, totalling 360 fits\n",
      "GB trained ! \n"
     ]
    }
   ],
   "source": [
    "GB_classifier = GradientBoostingClassifier(random_state = seed)\n",
    "scoring = ['accuracy','balanced_accuracy', 'f1','roc_auc']\n",
    "\n",
    "GB_parameters = [{ 'n_estimators' : [10,20,50,75,100,250],\n",
    "                    'learning_rate' : [0.001,0.01,0.1,1.0],\n",
    "                    'criterion' : ['friedman_mse','mse','mae']\n",
    "                    }]\n",
    "\n",
    "GB_grid_search = GridSearchCV(estimator = GB_classifier, param_grid = GB_parameters, scoring = 'accuracy', cv = 5, n_jobs = n_cores, verbose = 4)\n",
    "GB_grid_search = GB_grid_search.fit(X_train, y_train)\n",
    "print('GB trained ! ')"
   ]
  },
  {
   "cell_type": "code",
   "execution_count": 47,
   "metadata": {},
   "outputs": [
    {
     "name": "stdout",
     "output_type": "stream",
     "text": [
      "Best GB Classifier is : GradientBoostingClassifier(learning_rate=1.0, n_estimators=50, random_state=42), \n",
      "  with a score of : 0.9917808219178081\n",
      "\n",
      "\n",
      "[[10  0  0  0  0]\n",
      " [ 0 15  0  0  0]\n",
      " [ 0  0 24  0  0]\n",
      " [ 0  0  0  5  0]\n",
      " [ 0  0  1  0 37]]\n",
      "              precision    recall  f1-score   support\n",
      "\n",
      "           0       1.00      1.00      1.00        10\n",
      "           1       1.00      1.00      1.00        15\n",
      "           2       0.96      1.00      0.98        24\n",
      "           3       1.00      1.00      1.00         5\n",
      "           4       1.00      0.97      0.99        38\n",
      "\n",
      "    accuracy                           0.99        92\n",
      "   macro avg       0.99      0.99      0.99        92\n",
      "weighted avg       0.99      0.99      0.99        92\n",
      "\n",
      "Accuracy: 98.91304347826086\n"
     ]
    }
   ],
   "source": [
    "print(f'Best GB Classifier is : {GB_grid_search.best_estimator_}, \\n  with a score of : {GB_grid_search.best_score_}')\n",
    "print('\\n')\n",
    "\n",
    "y_pred_GB =  GB_grid_search.best_estimator_.predict(X_test)\n",
    "\n",
    "cm = confusion_matrix(y_test, y_pred_GB) \n",
    "print (cm)\n",
    "\n",
    "print(classification_report(y_test,y_pred_GB))\n",
    "print(\"Accuracy:\",accuracy_score(y_test, y_pred_GB)*100)"
   ]
  },
  {
   "cell_type": "markdown",
   "metadata": {},
   "source": [
    "## XGB Classifier"
   ]
  },
  {
   "cell_type": "code",
   "execution_count": 48,
   "metadata": {},
   "outputs": [
    {
     "name": "stdout",
     "output_type": "stream",
     "text": [
      "Fitting 5 folds for each of 288 candidates, totalling 1440 fits\n",
      "[17:34:42] WARNING: ../src/learner.cc:541: \n",
      "Parameters: { silent } might not be used.\n",
      "\n",
      "  This may not be accurate due to some parameters are only used in language bindings but\n",
      "  passed down to XGBoost core.  Or some parameters are not used but slip through this\n",
      "  verification. Please open an issue if you find above cases.\n",
      "\n",
      "\n",
      "[17:34:42] WARNING: ../src/learner.cc:1061: Starting in XGBoost 1.3.0, the default evaluation metric used with the objective 'multi:softprob' was changed from 'merror' to 'mlogloss'. Explicitly set eval_metric if you'd like to restore the old behavior.\n",
      "XGB trained ! \n"
     ]
    },
    {
     "name": "stderr",
     "output_type": "stream",
     "text": [
      "The use of label encoder in XGBClassifier is deprecated and will be removed in a future release. To remove this warning, do the following: 1) Pass option use_label_encoder=False when constructing XGBClassifier object; and 2) Encode your labels (y) as integers starting with 0, i.e. 0, 1, 2, ..., [num_class - 1].\n"
     ]
    }
   ],
   "source": [
    "XGB_classifier = XGBClassifier(random_state = seed)\n",
    "scoring = ['accuracy','balanced_accuracy', 'f1','roc_auc']\n",
    "\n",
    "XGB_parameters = [{'nthread': [n_cores], #when use hyperthread, xgboost may become slower\n",
    "              'objective':['binary:logistic'],\n",
    "            'class_weight' : [None, 'balanced'],\n",
    "              'learning_rate': [0.001,0.05,0.1], #so called `eta` value\n",
    "              'max_depth': [10,20,50,100],\n",
    "              'min_child_weight': [10],\n",
    "              'silent': [1],\n",
    "              'subsample': [0.8,0.9,1.0],\n",
    "              'colsample_bytree': [0.7],\n",
    "              'n_estimators': [10,20,50,100], #number of trees, change it to 1000 for better results\n",
    "              'missing':[-999],\n",
    "              'seed': [seed]}]\n",
    "\n",
    "XGB_grid_search = GridSearchCV(estimator = XGB_classifier, param_grid = XGB_parameters, scoring = 'accuracy', cv = 5, n_jobs = n_cores, verbose = 4)\n",
    "XGB_grid_search = XGB_grid_search.fit(X_train, y_train)\n",
    "print('XGB trained ! ')"
   ]
  },
  {
   "cell_type": "code",
   "execution_count": 49,
   "metadata": {},
   "outputs": [
    {
     "name": "stdout",
     "output_type": "stream",
     "text": [
      "Best XGB Classifier is : XGBClassifier(base_score=0.5, booster='gbtree', class_weight=None,\n",
      "              colsample_bylevel=1, colsample_bynode=1, colsample_bytree=0.7,\n",
      "              gamma=0, gpu_id=-1, importance_type='gain',\n",
      "              interaction_constraints='', learning_rate=0.05, max_delta_step=0,\n",
      "              max_depth=10, min_child_weight=10, missing=-999,\n",
      "              monotone_constraints='()', n_estimators=50, n_jobs=8, nthread=8,\n",
      "              num_parallel_tree=1, objective='multi:softprob', random_state=42,\n",
      "              reg_alpha=0, reg_lambda=1, scale_pos_weight=None, seed=42,\n",
      "              silent=1, subsample=0.9, tree_method='exact',\n",
      "              validate_parameters=1, ...), \n",
      "  with a score of : 0.9917808219178081\n",
      "\n",
      "\n",
      "[[10  0  0  0  0]\n",
      " [ 0 15  0  0  0]\n",
      " [ 0  0 24  0  0]\n",
      " [ 0  0  0  5  0]\n",
      " [ 0  0  1  0 37]]\n",
      "              precision    recall  f1-score   support\n",
      "\n",
      "           0       1.00      1.00      1.00        10\n",
      "           1       1.00      1.00      1.00        15\n",
      "           2       0.96      1.00      0.98        24\n",
      "           3       1.00      1.00      1.00         5\n",
      "           4       1.00      0.97      0.99        38\n",
      "\n",
      "    accuracy                           0.99        92\n",
      "   macro avg       0.99      0.99      0.99        92\n",
      "weighted avg       0.99      0.99      0.99        92\n",
      "\n",
      "Accuracy: 98.91304347826086\n"
     ]
    }
   ],
   "source": [
    "print(f'Best XGB Classifier is : {XGB_grid_search.best_estimator_}, \\n  with a score of : {XGB_grid_search.best_score_}')\n",
    "print('\\n')\n",
    "\n",
    "y_pred_XGB =  XGB_grid_search.best_estimator_.predict(X_test)\n",
    "\n",
    "cm = confusion_matrix(y_test, y_pred_XGB) \n",
    "print (cm)\n",
    "\n",
    "print(classification_report(y_test,y_pred_XGB))\n",
    "print(\"Accuracy:\",accuracy_score(y_test, y_pred_XGB)*100)"
   ]
  },
  {
   "cell_type": "markdown",
   "metadata": {},
   "source": [
    "## LGBM Classifier"
   ]
  },
  {
   "cell_type": "code",
   "execution_count": 50,
   "metadata": {},
   "outputs": [
    {
     "name": "stdout",
     "output_type": "stream",
     "text": [
      "Fitting 5 folds for each of 576 candidates, totalling 2880 fits\n",
      "LGBM trained ! \n"
     ]
    }
   ],
   "source": [
    "LGBM_classifier = LGBMClassifier(random_state = seed)\n",
    "scoring = ['accuracy','balanced_accuracy', 'f1','roc_auc']\n",
    "\n",
    "LGBM_parameters = [{'boosting_type': ['gbdt','dart','goss'], #when use hyperthread, LGBMoost may become slower\n",
    "              'num_leaves':[50,75,100],\n",
    "               'class_weight' : [None, 'balanced'],\n",
    "              'learning_rate': [0.05,0.1], #so called `eta` value\n",
    "              'max_depth': [10,20,50,100],\n",
    "              'n_estimators': [10,20,50,100], #number of trees, change it to 1000 for better results\n",
    "            }]\n",
    "\n",
    "LGBM_grid_search = GridSearchCV(estimator = LGBM_classifier, param_grid = LGBM_parameters, scoring = 'accuracy', cv = 5, n_jobs = n_cores, verbose = 4)\n",
    "LGBM_grid_search = LGBM_grid_search.fit(X_train, y_train)\n",
    "print('LGBM trained ! ')"
   ]
  },
  {
   "cell_type": "code",
   "execution_count": 51,
   "metadata": {},
   "outputs": [
    {
     "name": "stdout",
     "output_type": "stream",
     "text": [
      "Best LGBM Classifier is : LGBMClassifier(class_weight='balanced', max_depth=10, num_leaves=50,\n",
      "               random_state=42), \n",
      "  with a score of : 0.9972602739726029\n",
      "\n",
      "\n",
      "[[10  0  0  0  0]\n",
      " [ 0 15  0  0  0]\n",
      " [ 0  0 24  0  0]\n",
      " [ 0  0  0  5  0]\n",
      " [ 0  0  1  0 37]]\n",
      "              precision    recall  f1-score   support\n",
      "\n",
      "           0       1.00      1.00      1.00        10\n",
      "           1       1.00      1.00      1.00        15\n",
      "           2       0.96      1.00      0.98        24\n",
      "           3       1.00      1.00      1.00         5\n",
      "           4       1.00      0.97      0.99        38\n",
      "\n",
      "    accuracy                           0.99        92\n",
      "   macro avg       0.99      0.99      0.99        92\n",
      "weighted avg       0.99      0.99      0.99        92\n",
      "\n",
      "Accuracy: 98.91304347826086\n"
     ]
    }
   ],
   "source": [
    "print(f'Best LGBM Classifier is : {LGBM_grid_search.best_estimator_}, \\n  with a score of : {LGBM_grid_search.best_score_}')\n",
    "print('\\n')\n",
    "\n",
    "y_pred_LGBM =  LGBM_grid_search.best_estimator_.predict(X_test)\n",
    "\n",
    "cm = confusion_matrix(y_test, y_pred_LGBM) \n",
    "print (cm)\n",
    "\n",
    "print(classification_report(y_test,y_pred_LGBM))\n",
    "print(\"Accuracy:\",accuracy_score(y_test, y_pred_LGBM)*100)"
   ]
  },
  {
   "cell_type": "markdown",
   "metadata": {},
   "source": [
    "# Saving Models"
   ]
  },
  {
   "cell_type": "code",
   "execution_count": 54,
   "metadata": {},
   "outputs": [
    {
     "name": "stdout",
     "output_type": "stream",
     "text": [
      "Saving Models\n",
      "/home/sebastien/Bureau/NeuroMorpho/logistic_regression.sav\n",
      "/home/sebastien/Bureau/NeuroMorpho/SVM.sav\n",
      "/home/sebastien/Bureau/NeuroMorpho/Gaussian Naive Bayes.sav\n",
      "/home/sebastien/Bureau/NeuroMorpho/Decision Tree.sav\n",
      "/home/sebastien/Bureau/NeuroMorpho/Bagging.sav\n",
      "/home/sebastien/Bureau/NeuroMorpho/KNN.sav\n",
      "/home/sebastien/Bureau/NeuroMorpho/Ada Boost.sav\n",
      "/home/sebastien/Bureau/NeuroMorpho/Gradient Bossting.sav\n",
      "/home/sebastien/Bureau/NeuroMorpho/XGB.sav\n",
      "/home/sebastien/Bureau/NeuroMorpho/LGBM.sav\n"
     ]
    }
   ],
   "source": [
    "print('Saving Models')\n",
    "\n",
    "models_dict = {\n",
    "    'logistic_regression' : LR_grid_search.best_estimator_,\n",
    "    'SVM' : SVM_grid_search.best_estimator_,\n",
    "    'Gaussian Naive Bayes' : GNB_classifier,\n",
    "    'Decision Tree' : DT_grid_search.best_estimator_,\n",
    "    'Bagging' : BG_grid_search.best_estimator_,\n",
    "    'KNN' : KNN_grid_search.best_estimator_,\n",
    "    'Ada Boost' : ADAB_grid_search.best_estimator_,\n",
    "    'Gradient Bossting' : GB_grid_search.best_estimator_,\n",
    "    'XGB' : XGB_grid_search.best_estimator_,\n",
    "    'LGBM' : LGBM_grid_search.best_estimator_\n",
    "    \n",
    "\n",
    "}\n",
    "\n",
    "# save the model to disk\n",
    "\n",
    "for key, value in models_dict.items():\n",
    "\n",
    "    filename = str(os.getcwd()) + '/' +  key + '.sav'\n",
    "    print(filename)\n",
    "    pickle.dump(value, open(filename, 'wb'))"
   ]
  },
  {
   "cell_type": "markdown",
   "metadata": {},
   "source": [
    "# Models Evaluation"
   ]
  },
  {
   "cell_type": "code",
   "execution_count": 56,
   "metadata": {},
   "outputs": [
    {
     "name": "stdout",
     "output_type": "stream",
     "text": [
      "logistic_regression : Mean ROC 0.6892290840935404 STD:(0.03930619602900846)\n",
      "SVM : Mean ROC 0.967569272441445 STD:(0.007561630474281595)\n",
      "Gaussian Naive Bayes : Mean ROC 0.8964225381656867 STD:(0.02142730651697465)\n",
      "Decision Tree : Mean ROC 0.9620021641503671 STD:(0.02725464583454016)\n",
      "Bagging : Mean ROC 0.9978166332846137 STD:(0.004366733430772828)\n",
      "KNN : Mean ROC 0.6843323031190616 STD:(0.03816192786316454)\n",
      "Ada Boost : Mean ROC 1.0 STD:(0.0)\n",
      "Gradient Bossting : Mean ROC 1.0 STD:(0.0)\n",
      "XGB : Mean ROC 0.9978337769890565 STD:(0.004332446021886982)\n",
      "LGBM : Mean ROC 0.9978337769890565 STD:(0.004332446021886982)\n",
      "Evaluation done !\n"
     ]
    }
   ],
   "source": [
    "cv = StratifiedKFold(n_splits = 5, shuffle = True, random_state = seed)\n",
    "\n",
    "f1_scores = []\n",
    "names = []\n",
    "\n",
    "for name, model in models_dict.items():\n",
    "    scores = cross_val_score(model, data, data['Labels'], scoring = 'f1_weighted', cv = cv, n_jobs = n_cores)\n",
    "    f1_mean = scores.mean()\n",
    "    f1_std = scores.std()\n",
    "    print(f\"{name} : Mean ROC {f1_mean} STD:({f1_std})\")\n",
    "    f1_scores.append(scores)\n",
    "    names.append(name)\n",
    "\n",
    "print('Evaluation done !')"
   ]
  },
  {
   "cell_type": "markdown",
   "metadata": {},
   "source": [
    "# Plotting results"
   ]
  },
  {
   "cell_type": "code",
   "execution_count": 61,
   "metadata": {},
   "outputs": [
    {
     "data": {
      "image/png": "[encoded data removed]",
      "text/plain": [
       "<Figure size 864x432 with 1 Axes>"
      ]
     },
     "metadata": {
      "needs_background": "light"
     },
     "output_type": "display_data"
    },
    {
     "data": {
      "text/plain": [
       "<Figure size 432x288 with 0 Axes>"
      ]
     },
     "metadata": {},
     "output_type": "display_data"
    }
   ],
   "source": [
    "fig, ax = plt.subplots(figsize=(12,6))\n",
    "ax.boxplot(f1_scores)\n",
    "ax.set_xticklabels(names)\n",
    "fig.suptitle('Comparison of differents models based on f1 score')\n",
    "plt.show()\n",
    "plt.savefig('Model_evaluation.png')"
   ]
  }
 ],
 "metadata": {
  "interpreter": {
   "hash": "9ad9f4a6a94fecc6050a663ab135b011a742ac4640351774e1754afad1adf1ed"
  },
  "kernelspec": {
   "display_name": "Python 3.7.10 64-bit ('Projets': conda)",
   "name": "python3"
  },
  "language_info": {
   "codemirror_mode": {
    "name": "ipython",
    "version": 3
   },
   "file_extension": ".py",
   "mimetype": "text/x-python",
   "name": "python",
   "nbconvert_exporter": "python",
   "pygments_lexer": "ipython3",
   "version": "3.7.10"
  },
  "orig_nbformat": 4
 },
 "nbformat": 4,
 "nbformat_minor": 2
}